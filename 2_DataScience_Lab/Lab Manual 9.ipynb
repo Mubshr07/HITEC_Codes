{
 "cells": [
  {
   "cell_type": "code",
   "execution_count": 1,
   "metadata": {},
   "outputs": [],
   "source": [
    "import pandas as pd\n",
    "import numpy as np\n",
    "import matplotlib.pyplot as plt\n",
    "import os\n",
    "import seaborn as sns\n",
    "from sklearn.preprocessing import LabelEncoder\n",
    "\n",
    "\n",
    "\n"
   ]
  },
  {
   "cell_type": "markdown",
   "metadata": {},
   "source": [
    "# Reading E commerce dataset"
   ]
  },
  {
   "cell_type": "code",
   "execution_count": null,
   "metadata": {},
   "outputs": [],
   "source": [
    "datasetIndex = 6\n",
    "\n",
    "if datasetIndex == 1:\n",
    "    dataSetPath = r\"..\\1_DataSets\\life_insurance_data.csv\"\n",
    "elif datasetIndex == 2:\n",
    "    dataSetPath = r\"..\\1_DataSets\\googleplaystore.csv\"\n",
    "elif datasetIndex == 3:\n",
    "    dataSetPath = r\"..\\1_DataSets\\framingham_Heart_Disease_Dataset.csv\"\n",
    "elif datasetIndex == 4:\n",
    "    dataSetPath = r\"..\\1_DataSets\\iris.csv\"\n",
    "elif datasetIndex == 5:\n",
    "    dataSetPath = r\"..\\1_DataSets\\2_cleveland.csv\"\n",
    "elif datasetIndex == 6:\n",
    "    dataSetPath = r\"..\\1_DataSets\\gdp_data_for_2AxisPlot.csv\"\n",
    "\n",
    "dataSetName = os.path.basename(dataSetPath)\n",
    "\n",
    "dataset = pd.read_csv(dataSetPath)\n",
    "dataset.head()\n",
    "\n",
    "print(f\"{dataSetName} Columns: {dataset.columns.to_list()}\")\n",
    "print(\"****************************\")\n",
    "print(f\"{dataSetName} Shape: {dataset.shape}\")\n",
    "print(\"****************************\")\n",
    "\n",
    "totalNumberOfRowInActualDataset = len(dataset)\n",
    "print(f\"Total Rows in {dataSetName} File: {totalNumberOfRowInActualDataset}\")"
   ]
  },
  {
   "cell_type": "code",
   "execution_count": null,
   "metadata": {},
   "outputs": [],
   "source": [
    "dataset.drop_duplicates(inplace=True)\n",
    "print(f\"Dataset Shape after removing duplcates: {dataset.shape}\")\n",
    "print(\"****************************\")\n",
    "\n",
    "numberOfRowAfterRemovingDuplicates = len(dataset)\n",
    "print(f\"Remaining Rows in Dataset: {numberOfRowAfterRemovingDuplicates}\")\n",
    "\n",
    "print(\"****************************\")\n",
    "print(f\"Total Duplicates: {(totalNumberOfRowInActualDataset - numberOfRowAfterRemovingDuplicates)}\")"
   ]
  },
  {
   "cell_type": "code",
   "execution_count": null,
   "metadata": {},
   "outputs": [],
   "source": [
    "# Step 2: Handle missing values (remove rows with missing values)\n",
    "cleanedDataset = dataset.dropna()\n",
    "numberOfRowAfterRemovingNullValues = len(cleanedDataset)\n",
    "print(f\"Remaining Rows in Dataset: {numberOfRowAfterRemovingNullValues}\")\n",
    "\n",
    "print(\"****************************\")\n",
    "print(f\"Removed Number of rows containing Null Values: {( numberOfRowAfterRemovingDuplicates - numberOfRowAfterRemovingNullValues)}\")"
   ]
  },
  {
   "cell_type": "code",
   "execution_count": null,
   "metadata": {},
   "outputs": [],
   "source": [
    " # Encode the target column if it's categorical\n",
    "labelEncodingAlgorithmFromScienceKit = LabelEncoder()\n",
    "\n",
    "for col in cleanedDataset.select_dtypes(include=['object', 'category', 'bool', 'datetime']).columns:\n",
    "    cleanedDataset[col] = cleanedDataset[col].str.lower()\n",
    "    cleanedDataset[col] = cleanedDataset[col].str.strip()\n",
    "    cleanedDataset[col] = labelEncodingAlgorithmFromScienceKit.fit_transform(cleanedDataset[col])\n",
    " \n",
    "\n",
    "cleanedDataset.shape\n",
    "\n",
    "cleanedDataset.head()\n",
    "\n",
    "\n"
   ]
  },
  {
   "cell_type": "code",
   "execution_count": null,
   "metadata": {},
   "outputs": [],
   "source": [
    "cleanedDataset.info()"
   ]
  },
  {
   "cell_type": "code",
   "execution_count": null,
   "metadata": {},
   "outputs": [],
   "source": [
    "cleanedDataset.describe()"
   ]
  },
  {
   "cell_type": "code",
   "execution_count": null,
   "metadata": {},
   "outputs": [],
   "source": []
  },
  {
   "cell_type": "code",
   "execution_count": null,
   "metadata": {},
   "outputs": [],
   "source": []
  },
  {
   "cell_type": "code",
   "execution_count": null,
   "metadata": {},
   "outputs": [],
   "source": []
  },
  {
   "cell_type": "code",
   "execution_count": null,
   "metadata": {},
   "outputs": [],
   "source": []
  },
  {
   "cell_type": "code",
   "execution_count": null,
   "metadata": {},
   "outputs": [],
   "source": []
  },
  {
   "cell_type": "code",
   "execution_count": null,
   "metadata": {},
   "outputs": [],
   "source": []
  }
 ],
 "metadata": {
  "kernelspec": {
   "display_name": "Python 3",
   "language": "python",
   "name": "python3"
  },
  "language_info": {
   "codemirror_mode": {
    "name": "ipython",
    "version": 3
   },
   "file_extension": ".py",
   "mimetype": "text/x-python",
   "name": "python",
   "nbconvert_exporter": "python",
   "pygments_lexer": "ipython3",
   "version": "3.12.3"
  }
 },
 "nbformat": 4,
 "nbformat_minor": 2
}
