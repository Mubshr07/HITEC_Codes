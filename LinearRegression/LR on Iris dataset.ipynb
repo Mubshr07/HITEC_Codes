{
 "cells": [
  {
   "cell_type": "code",
   "execution_count": 27,
   "metadata": {},
   "outputs": [],
   "source": [
    "# 1. Importing Libraries\n",
    "import pandas as pd\n",
    "import numpy as np\n",
    "from sklearn.model_selection import train_test_split\n",
    "from sklearn.neighbors import KNeighborsClassifier\n",
    "from sklearn.linear_model import LinearRegression\n",
    "from sklearn.metrics import classification_report, accuracy_score\n",
    "import matplotlib.pyplot as plt\n",
    "import seaborn as sns\n",
    "from matplotlib.colors import ListedColormap\n",
    "from sklearn.metrics import confusion_matrix, ConfusionMatrixDisplay\n",
    "\n",
    "import os\n"
   ]
  },
  {
   "cell_type": "code",
   "execution_count": null,
   "metadata": {},
   "outputs": [
    {
     "name": "stdout",
     "output_type": "stream",
     "text": [
      "Dataset Columns: ['sepal.length', 'sepal.width', 'petal.length', 'petal.width', 'variety']\n",
      "****************************\n",
      "Dataset Shape: (150, 5)\n",
      "****************************\n",
      "Total Rows in dataset File: 150\n"
     ]
    }
   ],
   "source": [
    "dataSetPath = r\"..\\1_DataSets\\iris.csv\"\n",
    "\n",
    "dataset = pd.read_csv(dataSetPath) \n",
    "\n",
    "\n",
    "print(f\"Dataset Columns: {dataset.columns.to_list()}\")\n",
    "print(\"****************************\")\n",
    "print(f\"Dataset Shape: {dataset.shape}\")\n",
    "print(\"****************************\")\n",
    "\n",
    "totalNumberOfRowInActualDataset = len(dataset)\n",
    "print(f\"Total Rows in dataset File: {totalNumberOfRowInActualDataset}\")"
   ]
  },
  {
   "cell_type": "code",
   "execution_count": 29,
   "metadata": {},
   "outputs": [
    {
     "name": "stdout",
     "output_type": "stream",
     "text": [
      "Dataset Shape after removing duplcates: (149, 5)\n",
      "****************************\n",
      "Remaining Rows in Dataset: 149\n",
      "****************************\n",
      "Total Duplicates: 1\n"
     ]
    }
   ],
   "source": [
    "dataset.drop_duplicates(inplace=True)\n",
    "print(f\"Dataset Shape after removing duplcates: {dataset.shape}\")\n",
    "print(\"****************************\")\n",
    "\n",
    "numberOfRowAfterRemovingDuplicates = len(dataset)\n",
    "print(f\"Remaining Rows in Dataset: {numberOfRowAfterRemovingDuplicates}\")\n",
    "\n",
    "print(\"****************************\")\n",
    "print(f\"Total Duplicates: {(totalNumberOfRowInActualDataset - numberOfRowAfterRemovingDuplicates)}\")"
   ]
  },
  {
   "cell_type": "code",
   "execution_count": 30,
   "metadata": {},
   "outputs": [
    {
     "name": "stdout",
     "output_type": "stream",
     "text": [
      "Remaining Rows in Dataset: 149\n",
      "****************************\n",
      "Removed Number of rows containing Null Values: 0\n"
     ]
    }
   ],
   "source": [
    "# Step 2: Handle missing values (remove rows with missing values)\n",
    "cleanedDataset = dataset.dropna()\n",
    "numberOfRowAfterRemovingNullValues = len(cleanedDataset)\n",
    "print(f\"Remaining Rows in Dataset: {numberOfRowAfterRemovingNullValues}\")\n",
    "\n",
    "print(\"****************************\")\n",
    "print(f\"Removed Number of rows containing Null Values: {( numberOfRowAfterRemovingDuplicates - numberOfRowAfterRemovingNullValues)}\")"
   ]
  },
  {
   "cell_type": "code",
   "execution_count": 31,
   "metadata": {},
   "outputs": [
    {
     "data": {
      "text/html": [
       "<div>\n",
       "<style scoped>\n",
       "    .dataframe tbody tr th:only-of-type {\n",
       "        vertical-align: middle;\n",
       "    }\n",
       "\n",
       "    .dataframe tbody tr th {\n",
       "        vertical-align: top;\n",
       "    }\n",
       "\n",
       "    .dataframe thead th {\n",
       "        text-align: right;\n",
       "    }\n",
       "</style>\n",
       "<table border=\"1\" class=\"dataframe\">\n",
       "  <thead>\n",
       "    <tr style=\"text-align: right;\">\n",
       "      <th></th>\n",
       "      <th>sepal.length</th>\n",
       "      <th>sepal.width</th>\n",
       "      <th>petal.length</th>\n",
       "      <th>petal.width</th>\n",
       "      <th>variety</th>\n",
       "    </tr>\n",
       "  </thead>\n",
       "  <tbody>\n",
       "    <tr>\n",
       "      <th>0</th>\n",
       "      <td>5.1</td>\n",
       "      <td>3.5</td>\n",
       "      <td>1.4</td>\n",
       "      <td>0.2</td>\n",
       "      <td>Setosa</td>\n",
       "    </tr>\n",
       "    <tr>\n",
       "      <th>1</th>\n",
       "      <td>4.9</td>\n",
       "      <td>3.0</td>\n",
       "      <td>1.4</td>\n",
       "      <td>0.2</td>\n",
       "      <td>Setosa</td>\n",
       "    </tr>\n",
       "    <tr>\n",
       "      <th>2</th>\n",
       "      <td>4.7</td>\n",
       "      <td>3.2</td>\n",
       "      <td>1.3</td>\n",
       "      <td>0.2</td>\n",
       "      <td>Setosa</td>\n",
       "    </tr>\n",
       "    <tr>\n",
       "      <th>3</th>\n",
       "      <td>4.6</td>\n",
       "      <td>3.1</td>\n",
       "      <td>1.5</td>\n",
       "      <td>0.2</td>\n",
       "      <td>Setosa</td>\n",
       "    </tr>\n",
       "    <tr>\n",
       "      <th>4</th>\n",
       "      <td>5.0</td>\n",
       "      <td>3.6</td>\n",
       "      <td>1.4</td>\n",
       "      <td>0.2</td>\n",
       "      <td>Setosa</td>\n",
       "    </tr>\n",
       "  </tbody>\n",
       "</table>\n",
       "</div>"
      ],
      "text/plain": [
       "   sepal.length  sepal.width  petal.length  petal.width variety\n",
       "0           5.1          3.5           1.4          0.2  Setosa\n",
       "1           4.9          3.0           1.4          0.2  Setosa\n",
       "2           4.7          3.2           1.3          0.2  Setosa\n",
       "3           4.6          3.1           1.5          0.2  Setosa\n",
       "4           5.0          3.6           1.4          0.2  Setosa"
      ]
     },
     "execution_count": 31,
     "metadata": {},
     "output_type": "execute_result"
    }
   ],
   "source": [
    "cleanedDataset.head()"
   ]
  },
  {
   "cell_type": "code",
   "execution_count": 32,
   "metadata": {},
   "outputs": [
    {
     "name": "stdout",
     "output_type": "stream",
     "text": [
      "<class 'pandas.core.frame.DataFrame'>\n",
      "Index: 149 entries, 0 to 149\n",
      "Data columns (total 5 columns):\n",
      " #   Column        Non-Null Count  Dtype  \n",
      "---  ------        --------------  -----  \n",
      " 0   sepal.length  149 non-null    float64\n",
      " 1   sepal.width   149 non-null    float64\n",
      " 2   petal.length  149 non-null    float64\n",
      " 3   petal.width   149 non-null    float64\n",
      " 4   variety       149 non-null    object \n",
      "dtypes: float64(4), object(1)\n",
      "memory usage: 7.0+ KB\n"
     ]
    }
   ],
   "source": [
    "cleanedDataset.info()"
   ]
  },
  {
   "cell_type": "code",
   "execution_count": 33,
   "metadata": {},
   "outputs": [
    {
     "name": "stdout",
     "output_type": "stream",
     "text": [
      "Unique Target Classes: ['Setosa' 'Versicolor' 'Virginica']\n"
     ]
    }
   ],
   "source": [
    "unique_classes = cleanedDataset[cleanedDataset.columns.to_list()[-1]].unique()\n",
    "print(\"Unique Target Classes:\", unique_classes)"
   ]
  },
  {
   "cell_type": "code",
   "execution_count": 34,
   "metadata": {},
   "outputs": [],
   "source": [
    "# Encode the target column if it's categorical\n",
    "if cleanedDataset[cleanedDataset.columns.to_list()[-1]].dtype == 'object':\n",
    "    cleanedDataset[cleanedDataset.columns.to_list()[-1]] = cleanedDataset[cleanedDataset.columns.to_list()[-1]].astype('category').cat.codes\n"
   ]
  },
  {
   "cell_type": "code",
   "execution_count": 35,
   "metadata": {},
   "outputs": [
    {
     "name": "stdout",
     "output_type": "stream",
     "text": [
      "<class 'pandas.core.frame.DataFrame'>\n",
      "Index: 149 entries, 0 to 149\n",
      "Data columns (total 5 columns):\n",
      " #   Column        Non-Null Count  Dtype  \n",
      "---  ------        --------------  -----  \n",
      " 0   sepal.length  149 non-null    float64\n",
      " 1   sepal.width   149 non-null    float64\n",
      " 2   petal.length  149 non-null    float64\n",
      " 3   petal.width   149 non-null    float64\n",
      " 4   variety       149 non-null    int8   \n",
      "dtypes: float64(4), int8(1)\n",
      "memory usage: 6.0 KB\n"
     ]
    }
   ],
   "source": [
    "cleanedDataset.info()"
   ]
  },
  {
   "cell_type": "code",
   "execution_count": null,
   "metadata": {},
   "outputs": [],
   "source": [
    "# 5. Exploratory Data Analysis (EDA) and Plotting\n",
    "# Pairplot for feature visualization\n",
    "sns.pairplot(cleanedDataset, hue='variety', diag_kind='kde')\n",
    "plt.suptitle(\"Feature Relationships\", y=1.02)\n",
    "plt.show()\n",
    "\n",
    "\n"
   ]
  },
  {
   "cell_type": "code",
   "execution_count": null,
   "metadata": {},
   "outputs": [],
   "source": [
    "# Scatterplot of features\n",
    "firstFeatureIndex = 0\n",
    "secondFeatureIndex = 1\n",
    "plt.figure(figsize=(10, 8))\n",
    "sns.scatterplot(x=cleanedDataset[cleanedDataset.columns.to_list()[firstFeatureIndex]], y=cleanedDataset[cleanedDataset.columns.to_list()[secondFeatureIndex]], hue=cleanedDataset[cleanedDataset.columns.to_list()[-1]], palette='deep', s=70)\n",
    "plt.title(f\"{cleanedDataset.columns.to_list()[firstFeatureIndex]} vs {cleanedDataset.columns.to_list()[secondFeatureIndex]}\")\n",
    "plt.show()"
   ]
  },
  {
   "cell_type": "code",
   "execution_count": null,
   "metadata": {},
   "outputs": [],
   "source": [
    "# Scatterplot of features\n",
    "firstFeatureIndex = 0\n",
    "secondFeatureIndex = 2\n",
    "plt.figure(figsize=(10, 8))\n",
    "sns.scatterplot(x=cleanedDataset[cleanedDataset.columns.to_list()[firstFeatureIndex]], y=cleanedDataset[cleanedDataset.columns.to_list()[secondFeatureIndex]], hue=cleanedDataset[cleanedDataset.columns.to_list()[-1]], palette='deep', s=70)\n",
    "plt.title(f\"{cleanedDataset.columns.to_list()[firstFeatureIndex]} vs {cleanedDataset.columns.to_list()[secondFeatureIndex]}\")\n",
    "plt.show()"
   ]
  },
  {
   "cell_type": "code",
   "execution_count": null,
   "metadata": {},
   "outputs": [],
   "source": [
    "# Scatterplot of features\n",
    "firstFeatureIndex = 0\n",
    "secondFeatureIndex = 3\n",
    "plt.figure(figsize=(10, 8))\n",
    "sns.scatterplot(x=cleanedDataset[cleanedDataset.columns.to_list()[firstFeatureIndex]], y=cleanedDataset[cleanedDataset.columns.to_list()[secondFeatureIndex]], hue=cleanedDataset[cleanedDataset.columns.to_list()[-1]], palette='deep', s=70)\n",
    "plt.title(f\"{cleanedDataset.columns.to_list()[firstFeatureIndex]} vs {cleanedDataset.columns.to_list()[secondFeatureIndex]}\")\n",
    "plt.show()"
   ]
  },
  {
   "cell_type": "code",
   "execution_count": null,
   "metadata": {},
   "outputs": [],
   "source": [
    "# Scatterplot of features\n",
    "firstFeatureIndex = 1\n",
    "secondFeatureIndex = 2\n",
    "plt.figure(figsize=(10, 8))\n",
    "sns.scatterplot(x=cleanedDataset[cleanedDataset.columns.to_list()[firstFeatureIndex]], y=cleanedDataset[cleanedDataset.columns.to_list()[secondFeatureIndex]], hue=cleanedDataset[cleanedDataset.columns.to_list()[-1]], palette='deep', s=70)\n",
    "plt.title(f\"{cleanedDataset.columns.to_list()[firstFeatureIndex]} vs {cleanedDataset.columns.to_list()[secondFeatureIndex]}\")\n",
    "plt.show()"
   ]
  },
  {
   "cell_type": "code",
   "execution_count": null,
   "metadata": {},
   "outputs": [],
   "source": [
    "# Scatterplot of features\n",
    "firstFeatureIndex = 1\n",
    "secondFeatureIndex = 3\n",
    "plt.figure(figsize=(10, 8))\n",
    "sns.scatterplot(x=cleanedDataset[cleanedDataset.columns.to_list()[firstFeatureIndex]], y=cleanedDataset[cleanedDataset.columns.to_list()[secondFeatureIndex]], hue=cleanedDataset[cleanedDataset.columns.to_list()[-1]], palette='deep', s=70)\n",
    "plt.title(f\"{cleanedDataset.columns.to_list()[firstFeatureIndex]} vs {cleanedDataset.columns.to_list()[secondFeatureIndex]}\")\n",
    "plt.show()"
   ]
  },
  {
   "cell_type": "code",
   "execution_count": null,
   "metadata": {},
   "outputs": [],
   "source": [
    "# Scatterplot of features\n",
    "firstFeatureIndex = 2\n",
    "secondFeatureIndex = 3\n",
    "plt.figure(figsize=(10, 8))\n",
    "sns.scatterplot(x=cleanedDataset[cleanedDataset.columns.to_list()[firstFeatureIndex]], y=cleanedDataset[cleanedDataset.columns.to_list()[secondFeatureIndex]], hue=cleanedDataset[cleanedDataset.columns.to_list()[-1]], palette='deep', s=70)\n",
    "plt.title(f\"{cleanedDataset.columns.to_list()[firstFeatureIndex]} vs {cleanedDataset.columns.to_list()[secondFeatureIndex]}\")\n",
    "plt.show()"
   ]
  },
  {
   "cell_type": "code",
   "execution_count": 36,
   "metadata": {},
   "outputs": [
    {
     "name": "stdout",
     "output_type": "stream",
     "text": [
      "Training Data Shape: (89, 4)\n",
      "Testing Data Shape: (60, 4)\n"
     ]
    }
   ],
   "source": [
    "# 6. Splitting Data (40% for Testing, 60% for Training)\n",
    "X = cleanedDataset.iloc[:, :-1]  # Features\n",
    "Y = cleanedDataset.iloc[:, -1]   # Target\n",
    "X_train, X_test, y_train, y_test = train_test_split(X, Y, test_size=0.4, random_state=42)\n",
    "\n",
    "print(\"Training Data Shape:\", X_train.shape)\n",
    "print(\"Testing Data Shape:\", X_test.shape)\n"
   ]
  },
  {
   "cell_type": "code",
   "execution_count": 45,
   "metadata": {},
   "outputs": [],
   "source": [
    "# 7. Instantiating LR Model\n",
    "model = LinearRegression()\n",
    "model.fit(X, Y)\n",
    "\n",
    "# Generate predictions (the regression line)\n",
    "Y_pred = model.predict(X_test)\n"
   ]
  },
  {
   "cell_type": "code",
   "execution_count": 46,
   "metadata": {},
   "outputs": [
    {
     "name": "stdout",
     "output_type": "stream",
     "text": [
      "length of Y_pred: 60\n",
      "length of y_pred_classes: 60\n",
      "length of y_test: 60\n"
     ]
    },
    {
     "data": {
      "image/png": "[encoded data removed]",
      "text/plain": [
       "<Figure size 640x480 with 2 Axes>"
      ]
     },
     "metadata": {},
     "output_type": "display_data"
    }
   ],
   "source": [
    "\n",
    "# Convert regression predictions to nearest integer class labels\n",
    "y_pred_classes = np.rint(Y_pred).astype(int)  # Round to nearest integer\n",
    "y_pred_classes = np.clip(y_pred_classes, 0, (len(unique_classes)-1))  # Ensure valid class indices\n",
    "\n",
    "print(f\"length of Y_pred: {len(Y_pred)}\")\n",
    "print(f\"length of y_pred_classes: {len(y_pred_classes)}\")\n",
    "print(f\"length of y_test: {len(y_test)}\")\n",
    "# Compute confusion matrix\n",
    "cm = confusion_matrix(y_test, y_pred_classes)\n",
    "\n",
    "# Plot the confusion matrix\n",
    "disp = ConfusionMatrixDisplay(confusion_matrix=cm, display_labels=unique_classes)\n",
    "disp.plot(cmap='Blues', values_format='d')\n",
    "\n",
    "# Add title and labels\n",
    "plt.title(\"Confusion Matrix for Linear Regression on Iris Dataset\", fontsize=14, fontweight=\"bold\")\n",
    "plt.xlabel(\"Predicted Labels\")\n",
    "plt.ylabel(\"True Labels\")\n",
    "plt.show()"
   ]
  },
  {
   "cell_type": "code",
   "execution_count": null,
   "metadata": {},
   "outputs": [],
   "source": []
  },
  {
   "cell_type": "code",
   "execution_count": null,
   "metadata": {},
   "outputs": [],
   "source": []
  },
  {
   "cell_type": "code",
   "execution_count": null,
   "metadata": {},
   "outputs": [],
   "source": []
  },
  {
   "cell_type": "code",
   "execution_count": null,
   "metadata": {},
   "outputs": [],
   "source": []
  },
  {
   "cell_type": "code",
   "execution_count": null,
   "metadata": {},
   "outputs": [],
   "source": []
  },
  {
   "cell_type": "code",
   "execution_count": null,
   "metadata": {},
   "outputs": [],
   "source": []
  }
 ],
 "metadata": {
  "kernelspec": {
   "display_name": "Python 3",
   "language": "python",
   "name": "python3"
  },
  "language_info": {
   "codemirror_mode": {
    "name": "ipython",
    "version": 3
   },
   "file_extension": ".py",
   "mimetype": "text/x-python",
   "name": "python",
   "nbconvert_exporter": "python",
   "pygments_lexer": "ipython3",
   "version": "3.12.3"
  }
 },
 "nbformat": 4,
 "nbformat_minor": 2
}
