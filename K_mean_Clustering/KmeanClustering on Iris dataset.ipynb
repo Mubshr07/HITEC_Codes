{
 "cells": [
  {
   "cell_type": "code",
   "execution_count": 16,
   "metadata": {},
   "outputs": [],
   "source": [
    "# 1. Importing Libraries\n",
    "import pandas as pd\n",
    "import numpy as np\n",
    "from sklearn.model_selection import train_test_split \n",
    "from sklearn.cluster import KMeans\n",
    "\n",
    "from sklearn.metrics import classification_report, accuracy_score\n",
    "import matplotlib.pyplot as plt\n",
    "from matplotlib.colors import ListedColormap\n",
    "\n",
    "import seaborn as sns\n",
    "from matplotlib.colors import ListedColormap\n",
    "import os\n",
    "from sklearn.preprocessing import StandardScaler\n",
    "from sklearn.decomposition import PCA\n"
   ]
  },
  {
   "cell_type": "code",
   "execution_count": 21,
   "metadata": {},
   "outputs": [
    {
     "name": "stdout",
     "output_type": "stream",
     "text": [
      "Dataset Columns: ['sepal.length', 'sepal.width', 'petal.length', 'petal.width', 'variety']\n",
      "****************************\n",
      "Dataset Shape: (150, 5)\n",
      "****************************\n",
      "Total Rows in dataset File: 150\n"
     ]
    }
   ],
   "source": [
    "dataSetPath = r\"..\\1_DataSets\\iris.csv\"\n",
    "\n",
    "dataset = pd.read_csv(dataSetPath)\n",
    "dataSetName = os.path.basename(dataSetPath)\n",
    "\n",
    "print(f\"Dataset Columns: {dataset.columns.to_list()}\")\n",
    "print(\"****************************\")\n",
    "print(f\"Dataset Shape: {dataset.shape}\")\n",
    "print(\"****************************\")\n",
    "\n",
    "totalNumberOfRowInActualDataset = len(dataset)\n",
    "print(f\"Total Rows in dataset File: {totalNumberOfRowInActualDataset}\")\n"
   ]
  },
  {
   "cell_type": "code",
   "execution_count": 3,
   "metadata": {},
   "outputs": [
    {
     "name": "stdout",
     "output_type": "stream",
     "text": [
      "Dataset Shape after removing duplcates: (149, 5)\n",
      "****************************\n",
      "Remaining Rows in Dataset: 149\n",
      "****************************\n",
      "Total Duplicates: 1\n"
     ]
    }
   ],
   "source": [
    "dataset.drop_duplicates(inplace=True)\n",
    "print(f\"Dataset Shape after removing duplcates: {dataset.shape}\")\n",
    "print(\"****************************\")\n",
    "\n",
    "numberOfRowAfterRemovingDuplicates = len(dataset)\n",
    "print(f\"Remaining Rows in Dataset: {numberOfRowAfterRemovingDuplicates}\")\n",
    "\n",
    "print(\"****************************\")\n",
    "print(f\"Total Duplicates: {(totalNumberOfRowInActualDataset - numberOfRowAfterRemovingDuplicates)}\")"
   ]
  },
  {
   "cell_type": "code",
   "execution_count": 4,
   "metadata": {},
   "outputs": [
    {
     "name": "stdout",
     "output_type": "stream",
     "text": [
      "Remaining Rows in Dataset: 149\n",
      "****************************\n",
      "Removed Number of rows containing Null Values: 0\n"
     ]
    }
   ],
   "source": [
    "# Step 2: Handle missing values (remove rows with missing values)\n",
    "cleanedDataset = dataset.dropna()\n",
    "numberOfRowAfterRemovingNullValues = len(cleanedDataset)\n",
    "print(f\"Remaining Rows in Dataset: {numberOfRowAfterRemovingNullValues}\")\n",
    "\n",
    "print(\"****************************\")\n",
    "print(f\"Removed Number of rows containing Null Values: {( numberOfRowAfterRemovingDuplicates - numberOfRowAfterRemovingNullValues)}\")"
   ]
  },
  {
   "cell_type": "code",
   "execution_count": 5,
   "metadata": {},
   "outputs": [
    {
     "name": "stdout",
     "output_type": "stream",
     "text": [
      "['Setosa' 'Versicolor' 'Virginica']\n"
     ]
    }
   ],
   "source": [
    "target_column = cleanedDataset[cleanedDataset.columns.to_list()[-1]].unique()\n",
    "print(target_column) "
   ]
  },
  {
   "cell_type": "code",
   "execution_count": 6,
   "metadata": {},
   "outputs": [
    {
     "data": {
      "text/html": [
       "<div>\n",
       "<style scoped>\n",
       "    .dataframe tbody tr th:only-of-type {\n",
       "        vertical-align: middle;\n",
       "    }\n",
       "\n",
       "    .dataframe tbody tr th {\n",
       "        vertical-align: top;\n",
       "    }\n",
       "\n",
       "    .dataframe thead th {\n",
       "        text-align: right;\n",
       "    }\n",
       "</style>\n",
       "<table border=\"1\" class=\"dataframe\">\n",
       "  <thead>\n",
       "    <tr style=\"text-align: right;\">\n",
       "      <th></th>\n",
       "      <th>sepal.length</th>\n",
       "      <th>sepal.width</th>\n",
       "      <th>petal.length</th>\n",
       "      <th>petal.width</th>\n",
       "      <th>variety</th>\n",
       "    </tr>\n",
       "  </thead>\n",
       "  <tbody>\n",
       "    <tr>\n",
       "      <th>0</th>\n",
       "      <td>5.1</td>\n",
       "      <td>3.5</td>\n",
       "      <td>1.4</td>\n",
       "      <td>0.2</td>\n",
       "      <td>Setosa</td>\n",
       "    </tr>\n",
       "    <tr>\n",
       "      <th>1</th>\n",
       "      <td>4.9</td>\n",
       "      <td>3.0</td>\n",
       "      <td>1.4</td>\n",
       "      <td>0.2</td>\n",
       "      <td>Setosa</td>\n",
       "    </tr>\n",
       "    <tr>\n",
       "      <th>2</th>\n",
       "      <td>4.7</td>\n",
       "      <td>3.2</td>\n",
       "      <td>1.3</td>\n",
       "      <td>0.2</td>\n",
       "      <td>Setosa</td>\n",
       "    </tr>\n",
       "    <tr>\n",
       "      <th>3</th>\n",
       "      <td>4.6</td>\n",
       "      <td>3.1</td>\n",
       "      <td>1.5</td>\n",
       "      <td>0.2</td>\n",
       "      <td>Setosa</td>\n",
       "    </tr>\n",
       "    <tr>\n",
       "      <th>4</th>\n",
       "      <td>5.0</td>\n",
       "      <td>3.6</td>\n",
       "      <td>1.4</td>\n",
       "      <td>0.2</td>\n",
       "      <td>Setosa</td>\n",
       "    </tr>\n",
       "  </tbody>\n",
       "</table>\n",
       "</div>"
      ],
      "text/plain": [
       "   sepal.length  sepal.width  petal.length  petal.width variety\n",
       "0           5.1          3.5           1.4          0.2  Setosa\n",
       "1           4.9          3.0           1.4          0.2  Setosa\n",
       "2           4.7          3.2           1.3          0.2  Setosa\n",
       "3           4.6          3.1           1.5          0.2  Setosa\n",
       "4           5.0          3.6           1.4          0.2  Setosa"
      ]
     },
     "execution_count": 6,
     "metadata": {},
     "output_type": "execute_result"
    }
   ],
   "source": [
    "cleanedDataset.head()"
   ]
  },
  {
   "cell_type": "code",
   "execution_count": null,
   "metadata": {},
   "outputs": [],
   "source": [
    "cleanedDataset.info()"
   ]
  },
  {
   "cell_type": "code",
   "execution_count": 7,
   "metadata": {},
   "outputs": [],
   "source": [
    "# Encode the target column if it's categorical\n",
    "if cleanedDataset[cleanedDataset.columns.to_list()[-1]].dtype == 'object':\n",
    "    cleanedDataset[cleanedDataset.columns.to_list()[-1]] = cleanedDataset[cleanedDataset.columns.to_list()[-1]].astype('category').cat.codes\n"
   ]
  },
  {
   "cell_type": "code",
   "execution_count": null,
   "metadata": {},
   "outputs": [],
   "source": [
    "cleanedDataset.info()"
   ]
  },
  {
   "cell_type": "code",
   "execution_count": 32,
   "metadata": {},
   "outputs": [
    {
     "name": "stdout",
     "output_type": "stream",
     "text": [
      "features Shape: (149, 4)\n"
     ]
    }
   ],
   "source": [
    "features = cleanedDataset.iloc[:, :-1].values  \n",
    "print(\"features Shape:\", features.shape)\n",
    "n_clusters = 3\n",
    "iterations = 25"
   ]
  },
  {
   "cell_type": "code",
   "execution_count": 31,
   "metadata": {},
   "outputs": [
    {
     "name": "stdout",
     "output_type": "stream",
     "text": [
      "Plots saved in the directory: kmeans_steps_iris.csv_sepal.length_vs_sepal.width\n"
     ]
    }
   ],
   "source": [
    "firstFeatureIndex = 0\n",
    "secondFeatureIndex = 1\n",
    "# Randomly initialize centroids\n",
    "np.random.seed(42)\n",
    "initial_centroids = features[np.random.choice(features.shape[0], n_clusters, replace=False), :]\n",
    "\n",
    "# Initialize variables\n",
    "centroids = initial_centroids\n",
    "output_dir = f\"kmeans_steps_{dataSetName}_{cleanedDataset.columns.to_list()[firstFeatureIndex]}_vs_{cleanedDataset.columns.to_list()[secondFeatureIndex]}\"  # Directory to save the plots\n",
    "\n",
    "# Ensure the output directory exists\n",
    "os.makedirs(output_dir, exist_ok=True)\n",
    "\n",
    "for iteration in range(iterations):\n",
    "    # Step 1: Assign points to the nearest centroid\n",
    "    distances = np.linalg.norm(features[:, np.newaxis, :] - centroids, axis=2)\n",
    "    labels = np.argmin(distances, axis=1)\n",
    "\n",
    "    # Step 2: Update centroids based on the mean of assigned points\n",
    "    new_centroids = np.array([features[labels == cluster].mean(axis=0) if np.any(labels == cluster) else centroids[cluster]\n",
    "                              for cluster in range(n_clusters)])\n",
    "\n",
    "    # Plot current iteration\n",
    "    plt.figure(figsize=(8, 6))\n",
    "    for cluster in range(n_clusters):\n",
    "        plt.scatter(features[labels == cluster, firstFeatureIndex], features[labels == cluster, secondFeatureIndex], s=50, alpha=0.6, label=f'Cluster {cluster + 1}')\n",
    "    plt.scatter(centroids[:, firstFeatureIndex], centroids[:, secondFeatureIndex], s=200, c='black', marker='x', label='Centroids')\n",
    "    plt.title(f\"K-Means Iteration {iteration + 1}\")\n",
    "    plt.xlabel(f\"{cleanedDataset.columns.to_list()[firstFeatureIndex]}\")\n",
    "    plt.ylabel(f\"{cleanedDataset.columns.to_list()[secondFeatureIndex]}\")\n",
    "    plt.legend()\n",
    "    plt.grid(True)\n",
    "\n",
    "    # Save the plot\n",
    "    picturePath = os.path.join(output_dir, f\"k_mean_Clustering_iteration_{iteration + 1}.png\") \n",
    "    plt.savefig(picturePath,  dpi=300, bbox_inches='tight')\n",
    "\n",
    "    plt.close()\n",
    "\n",
    "    # Check for convergence (if centroids do not change)\n",
    "    if np.allclose(centroids, new_centroids):\n",
    "        break\n",
    "\n",
    "    centroids = new_centroids  # Update centroids for next iteration\n",
    "\n",
    "print(f\"Plots saved in the directory: {output_dir}\")"
   ]
  },
  {
   "cell_type": "code",
   "execution_count": null,
   "metadata": {},
   "outputs": [],
   "source": []
  },
  {
   "cell_type": "code",
   "execution_count": 33,
   "metadata": {},
   "outputs": [
    {
     "name": "stdout",
     "output_type": "stream",
     "text": [
      "Plots saved in the directory: kmeans_steps_iris.csv_sepal.length_vs_petal.length\n"
     ]
    }
   ],
   "source": [
    "firstFeatureIndex = 0\n",
    "secondFeatureIndex = 2\n",
    "# Randomly initialize centroids\n",
    "np.random.seed(42)\n",
    "initial_centroids = features[np.random.choice(features.shape[0], n_clusters, replace=False), :]\n",
    "\n",
    "# Initialize variables\n",
    "centroids = initial_centroids\n",
    "output_dir = f\"kmeans_steps_{dataSetName}_{cleanedDataset.columns.to_list()[firstFeatureIndex]}_vs_{cleanedDataset.columns.to_list()[secondFeatureIndex]}\"  # Directory to save the plots\n",
    "\n",
    "# Ensure the output directory exists\n",
    "os.makedirs(output_dir, exist_ok=True)\n",
    "\n",
    "for iteration in range(iterations):\n",
    "    # Step 1: Assign points to the nearest centroid\n",
    "    distances = np.linalg.norm(features[:, np.newaxis, :] - centroids, axis=2)\n",
    "    labels = np.argmin(distances, axis=1)\n",
    "\n",
    "    # Step 2: Update centroids based on the mean of assigned points\n",
    "    new_centroids = np.array([features[labels == cluster].mean(axis=0) if np.any(labels == cluster) else centroids[cluster]\n",
    "                              for cluster in range(n_clusters)])\n",
    "\n",
    "    # Plot current iteration\n",
    "    plt.figure(figsize=(8, 6))\n",
    "    for cluster in range(n_clusters):\n",
    "        plt.scatter(features[labels == cluster, firstFeatureIndex], features[labels == cluster, secondFeatureIndex], s=50, alpha=0.6, label=f'Cluster {cluster + 1}')\n",
    "    plt.scatter(centroids[:, firstFeatureIndex], centroids[:, secondFeatureIndex], s=200, c='black', marker='x', label='Centroids')\n",
    "    plt.title(f\"K-Means Iteration {iteration + 1}\")\n",
    "    plt.xlabel(f\"{cleanedDataset.columns.to_list()[firstFeatureIndex]}\")\n",
    "    plt.ylabel(f\"{cleanedDataset.columns.to_list()[secondFeatureIndex]}\")\n",
    "    plt.legend()\n",
    "    plt.grid(True)\n",
    "\n",
    "    # Save the plot\n",
    "    picturePath = os.path.join(output_dir, f\"k_mean_Clustering_iteration_{iteration + 1}.png\") \n",
    "    plt.savefig(picturePath,  dpi=300, bbox_inches='tight')\n",
    "\n",
    "    plt.close()\n",
    "\n",
    "    # Check for convergence (if centroids do not change)\n",
    "    if np.allclose(centroids, new_centroids):\n",
    "        break\n",
    "\n",
    "    centroids = new_centroids  # Update centroids for next iteration\n",
    "\n",
    "print(f\"Plots saved in the directory: {output_dir}\")"
   ]
  },
  {
   "cell_type": "code",
   "execution_count": null,
   "metadata": {},
   "outputs": [],
   "source": []
  },
  {
   "cell_type": "code",
   "execution_count": null,
   "metadata": {},
   "outputs": [],
   "source": []
  },
  {
   "cell_type": "code",
   "execution_count": null,
   "metadata": {},
   "outputs": [],
   "source": []
  },
  {
   "cell_type": "code",
   "execution_count": null,
   "metadata": {},
   "outputs": [],
   "source": []
  },
  {
   "cell_type": "code",
   "execution_count": null,
   "metadata": {},
   "outputs": [],
   "source": []
  },
  {
   "cell_type": "code",
   "execution_count": null,
   "metadata": {},
   "outputs": [],
   "source": [
    "from sklearn.cluster import KMeans\n",
    "import numpy as np\n",
    "import matplotlib.pyplot as plt\n",
    "\n",
    "# Sample Data\n",
    "np.random.seed(42)\n",
    "X = np.random.rand(100, 2)\n",
    "\n",
    "# Apply K-Means\n",
    "kmeans = KMeans(n_clusters=3, random_state=42)\n",
    "kmeans.fit(X)\n",
    "y_kmeans = kmeans.predict(X)\n",
    "\n",
    "# Plotting\n",
    "plt.scatter(X[:, 0], X[:, 1], c=y_kmeans, s=50, cmap='viridis')\n",
    "centroids = kmeans.cluster_centers_\n",
    "plt.scatter(centroids[:, 0], centroids[:, 1], c='red', s=200, alpha=0.75, label=\"Centroids\")\n",
    "plt.title(\"K-Means Clustering\")\n",
    "plt.legend()\n",
    "plt.show()\n"
   ]
  },
  {
   "cell_type": "code",
   "execution_count": null,
   "metadata": {},
   "outputs": [],
   "source": []
  }
 ],
 "metadata": {
  "kernelspec": {
   "display_name": "Python 3",
   "language": "python",
   "name": "python3"
  },
  "language_info": {
   "codemirror_mode": {
    "name": "ipython",
    "version": 3
   },
   "file_extension": ".py",
   "mimetype": "text/x-python",
   "name": "python",
   "nbconvert_exporter": "python",
   "pygments_lexer": "ipython3",
   "version": "3.12.3"
  }
 },
 "nbformat": 4,
 "nbformat_minor": 2
}
