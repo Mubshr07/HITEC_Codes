{
 "cells": [
  {
   "cell_type": "markdown",
   "metadata": {},
   "source": [
    "# 1. Importing Libraries"
   ]
  },
  {
   "cell_type": "code",
   "execution_count": 1,
   "metadata": {},
   "outputs": [],
   "source": [
    "import pandas as pd\n",
    "import numpy as np\n",
    "from sklearn.model_selection import train_test_split \n",
    "from sklearn.cluster import KMeans\n",
    "\n",
    "from sklearn.metrics import classification_report, accuracy_score\n",
    "import matplotlib.pyplot as plt\n",
    "from matplotlib.colors import ListedColormap\n",
    "\n",
    "import seaborn as sns\n",
    "from sklearn.preprocessing import LabelEncoder\n",
    "import os\n",
    "from sklearn.preprocessing import StandardScaler\n",
    "from sklearn.decomposition import PCA\n",
    "from sklearn.metrics import pairwise_distances_argmin\n",
    "\n"
   ]
  },
  {
   "cell_type": "markdown",
   "metadata": {},
   "source": [
    "# Reading Dataset"
   ]
  },
  {
   "cell_type": "code",
   "execution_count": 2,
   "metadata": {},
   "outputs": [
    {
     "name": "stdout",
     "output_type": "stream",
     "text": [
      "Dataset Columns: ['city', 'city_ascii', 'lat', 'lng', 'country', 'iso2', 'iso3', 'admin_name', 'capital', 'population', 'id']\n",
      "****************************\n",
      "Dataset Shape: (47868, 11)\n",
      "****************************\n",
      "Total Rows in dataset File: 47868\n"
     ]
    }
   ],
   "source": [
    "dataSetPath = r\"..\\1_DataSets\\worldcities.csv\"\n",
    "\n",
    "dataset = pd.read_csv(dataSetPath)\n",
    "dataSetName = os.path.basename(dataSetPath)\n",
    "\n",
    "print(f\"Dataset Columns: {dataset.columns.to_list()}\")\n",
    "print(\"****************************\")\n",
    "print(f\"Dataset Shape: {dataset.shape}\")\n",
    "print(\"****************************\")\n",
    "\n",
    "totalNumberOfRowInActualDataset = len(dataset)\n",
    "print(f\"Total Rows in dataset File: {totalNumberOfRowInActualDataset}\")\n"
   ]
  },
  {
   "cell_type": "markdown",
   "metadata": {},
   "source": [
    "# Pre-proccessing Steps"
   ]
  },
  {
   "cell_type": "code",
   "execution_count": 3,
   "metadata": {},
   "outputs": [
    {
     "name": "stdout",
     "output_type": "stream",
     "text": [
      "Dataset Shape after removing duplcates: (47868, 11)\n",
      "****************************\n",
      "Remaining Rows in Dataset: 47868\n",
      "****************************\n",
      "Total Duplicates: 0\n"
     ]
    }
   ],
   "source": [
    "dataset.drop_duplicates(inplace=True)\n",
    "print(f\"Dataset Shape after removing duplcates: {dataset.shape}\")\n",
    "print(\"****************************\")\n",
    "\n",
    "numberOfRowAfterRemovingDuplicates = len(dataset)\n",
    "print(f\"Remaining Rows in Dataset: {numberOfRowAfterRemovingDuplicates}\")\n",
    "\n",
    "print(\"****************************\")\n",
    "print(f\"Total Duplicates: {(totalNumberOfRowInActualDataset - numberOfRowAfterRemovingDuplicates)}\")"
   ]
  },
  {
   "cell_type": "code",
   "execution_count": 4,
   "metadata": {},
   "outputs": [
    {
     "name": "stdout",
     "output_type": "stream",
     "text": [
      "Remaining Rows in Dataset: 12764\n",
      "****************************\n",
      "Removed Number of rows containing Null Values: 35104\n"
     ]
    }
   ],
   "source": [
    "# Step 2: Handle missing values (remove rows with missing values)\n",
    "cleanedDataset = dataset.dropna()\n",
    "numberOfRowAfterRemovingNullValues = len(cleanedDataset)\n",
    "print(f\"Remaining Rows in Dataset: {numberOfRowAfterRemovingNullValues}\")\n",
    "\n",
    "print(\"****************************\")\n",
    "print(f\"Removed Number of rows containing Null Values: {( numberOfRowAfterRemovingDuplicates - numberOfRowAfterRemovingNullValues)}\")"
   ]
  },
  {
   "cell_type": "code",
   "execution_count": 5,
   "metadata": {},
   "outputs": [
    {
     "name": "stdout",
     "output_type": "stream",
     "text": [
      "[1392685764 1360771077 1356872604 ... 1591425685 1705541759 1434044820]\n"
     ]
    }
   ],
   "source": [
    "target_column = cleanedDataset[cleanedDataset.columns.to_list()[-1]].unique()\n",
    "print(target_column) "
   ]
  },
  {
   "cell_type": "code",
   "execution_count": 6,
   "metadata": {},
   "outputs": [
    {
     "data": {
      "text/html": [
       "<div>\n",
       "<style scoped>\n",
       "    .dataframe tbody tr th:only-of-type {\n",
       "        vertical-align: middle;\n",
       "    }\n",
       "\n",
       "    .dataframe tbody tr th {\n",
       "        vertical-align: top;\n",
       "    }\n",
       "\n",
       "    .dataframe thead th {\n",
       "        text-align: right;\n",
       "    }\n",
       "</style>\n",
       "<table border=\"1\" class=\"dataframe\">\n",
       "  <thead>\n",
       "    <tr style=\"text-align: right;\">\n",
       "      <th></th>\n",
       "      <th>city</th>\n",
       "      <th>city_ascii</th>\n",
       "      <th>lat</th>\n",
       "      <th>lng</th>\n",
       "      <th>country</th>\n",
       "      <th>iso2</th>\n",
       "      <th>iso3</th>\n",
       "      <th>admin_name</th>\n",
       "      <th>capital</th>\n",
       "      <th>population</th>\n",
       "      <th>id</th>\n",
       "    </tr>\n",
       "  </thead>\n",
       "  <tbody>\n",
       "    <tr>\n",
       "      <th>0</th>\n",
       "      <td>Tokyo</td>\n",
       "      <td>Tokyo</td>\n",
       "      <td>35.6897</td>\n",
       "      <td>139.6922</td>\n",
       "      <td>Japan</td>\n",
       "      <td>JP</td>\n",
       "      <td>JPN</td>\n",
       "      <td>Tōkyō</td>\n",
       "      <td>primary</td>\n",
       "      <td>37732000.0</td>\n",
       "      <td>1392685764</td>\n",
       "    </tr>\n",
       "    <tr>\n",
       "      <th>1</th>\n",
       "      <td>Jakarta</td>\n",
       "      <td>Jakarta</td>\n",
       "      <td>-6.1750</td>\n",
       "      <td>106.8275</td>\n",
       "      <td>Indonesia</td>\n",
       "      <td>ID</td>\n",
       "      <td>IDN</td>\n",
       "      <td>Jakarta</td>\n",
       "      <td>primary</td>\n",
       "      <td>33756000.0</td>\n",
       "      <td>1360771077</td>\n",
       "    </tr>\n",
       "    <tr>\n",
       "      <th>2</th>\n",
       "      <td>Delhi</td>\n",
       "      <td>Delhi</td>\n",
       "      <td>28.6100</td>\n",
       "      <td>77.2300</td>\n",
       "      <td>India</td>\n",
       "      <td>IN</td>\n",
       "      <td>IND</td>\n",
       "      <td>Delhi</td>\n",
       "      <td>admin</td>\n",
       "      <td>32226000.0</td>\n",
       "      <td>1356872604</td>\n",
       "    </tr>\n",
       "    <tr>\n",
       "      <th>3</th>\n",
       "      <td>Guangzhou</td>\n",
       "      <td>Guangzhou</td>\n",
       "      <td>23.1300</td>\n",
       "      <td>113.2600</td>\n",
       "      <td>China</td>\n",
       "      <td>CN</td>\n",
       "      <td>CHN</td>\n",
       "      <td>Guangdong</td>\n",
       "      <td>admin</td>\n",
       "      <td>26940000.0</td>\n",
       "      <td>1156237133</td>\n",
       "    </tr>\n",
       "    <tr>\n",
       "      <th>4</th>\n",
       "      <td>Mumbai</td>\n",
       "      <td>Mumbai</td>\n",
       "      <td>19.0761</td>\n",
       "      <td>72.8775</td>\n",
       "      <td>India</td>\n",
       "      <td>IN</td>\n",
       "      <td>IND</td>\n",
       "      <td>Mahārāshtra</td>\n",
       "      <td>admin</td>\n",
       "      <td>24973000.0</td>\n",
       "      <td>1356226629</td>\n",
       "    </tr>\n",
       "  </tbody>\n",
       "</table>\n",
       "</div>"
      ],
      "text/plain": [
       "        city city_ascii      lat       lng    country iso2 iso3   admin_name  \\\n",
       "0      Tokyo      Tokyo  35.6897  139.6922      Japan   JP  JPN        Tōkyō   \n",
       "1    Jakarta    Jakarta  -6.1750  106.8275  Indonesia   ID  IDN      Jakarta   \n",
       "2      Delhi      Delhi  28.6100   77.2300      India   IN  IND        Delhi   \n",
       "3  Guangzhou  Guangzhou  23.1300  113.2600      China   CN  CHN    Guangdong   \n",
       "4     Mumbai     Mumbai  19.0761   72.8775      India   IN  IND  Mahārāshtra   \n",
       "\n",
       "   capital  population          id  \n",
       "0  primary  37732000.0  1392685764  \n",
       "1  primary  33756000.0  1360771077  \n",
       "2    admin  32226000.0  1356872604  \n",
       "3    admin  26940000.0  1156237133  \n",
       "4    admin  24973000.0  1356226629  "
      ]
     },
     "execution_count": 6,
     "metadata": {},
     "output_type": "execute_result"
    }
   ],
   "source": [
    "cleanedDataset.head()"
   ]
  },
  {
   "cell_type": "code",
   "execution_count": 7,
   "metadata": {},
   "outputs": [
    {
     "name": "stdout",
     "output_type": "stream",
     "text": [
      "<class 'pandas.core.frame.DataFrame'>\n",
      "Index: 12764 entries, 0 to 47652\n",
      "Data columns (total 11 columns):\n",
      " #   Column      Non-Null Count  Dtype  \n",
      "---  ------      --------------  -----  \n",
      " 0   city        12764 non-null  object \n",
      " 1   city_ascii  12764 non-null  object \n",
      " 2   lat         12764 non-null  float64\n",
      " 3   lng         12764 non-null  float64\n",
      " 4   country     12764 non-null  object \n",
      " 5   iso2        12764 non-null  object \n",
      " 6   iso3        12764 non-null  object \n",
      " 7   admin_name  12764 non-null  object \n",
      " 8   capital     12764 non-null  object \n",
      " 9   population  12764 non-null  float64\n",
      " 10  id          12764 non-null  int64  \n",
      "dtypes: float64(3), int64(1), object(7)\n",
      "memory usage: 1.2+ MB\n"
     ]
    }
   ],
   "source": [
    "cleanedDataset.info()"
   ]
  },
  {
   "cell_type": "code",
   "execution_count": 8,
   "metadata": {},
   "outputs": [
    {
     "data": {
      "text/html": [
       "<div>\n",
       "<style scoped>\n",
       "    .dataframe tbody tr th:only-of-type {\n",
       "        vertical-align: middle;\n",
       "    }\n",
       "\n",
       "    .dataframe tbody tr th {\n",
       "        vertical-align: top;\n",
       "    }\n",
       "\n",
       "    .dataframe thead th {\n",
       "        text-align: right;\n",
       "    }\n",
       "</style>\n",
       "<table border=\"1\" class=\"dataframe\">\n",
       "  <thead>\n",
       "    <tr style=\"text-align: right;\">\n",
       "      <th></th>\n",
       "      <th>lat</th>\n",
       "      <th>lng</th>\n",
       "      <th>population</th>\n",
       "      <th>id</th>\n",
       "    </tr>\n",
       "  </thead>\n",
       "  <tbody>\n",
       "    <tr>\n",
       "      <th>count</th>\n",
       "      <td>12764.000000</td>\n",
       "      <td>12764.000000</td>\n",
       "      <td>1.276400e+04</td>\n",
       "      <td>1.276400e+04</td>\n",
       "    </tr>\n",
       "    <tr>\n",
       "      <th>mean</th>\n",
       "      <td>25.782320</td>\n",
       "      <td>6.130952</td>\n",
       "      <td>2.417199e+05</td>\n",
       "      <td>1.421425e+09</td>\n",
       "    </tr>\n",
       "    <tr>\n",
       "      <th>std</th>\n",
       "      <td>23.571168</td>\n",
       "      <td>63.193506</td>\n",
       "      <td>1.221234e+06</td>\n",
       "      <td>2.610867e+08</td>\n",
       "    </tr>\n",
       "    <tr>\n",
       "      <th>min</th>\n",
       "      <td>-54.933300</td>\n",
       "      <td>-178.158500</td>\n",
       "      <td>2.000000e+00</td>\n",
       "      <td>1.004003e+09</td>\n",
       "    </tr>\n",
       "    <tr>\n",
       "      <th>25%</th>\n",
       "      <td>9.117600</td>\n",
       "      <td>-47.831900</td>\n",
       "      <td>1.531300e+04</td>\n",
       "      <td>1.170399e+09</td>\n",
       "    </tr>\n",
       "    <tr>\n",
       "      <th>50%</th>\n",
       "      <td>32.457500</td>\n",
       "      <td>15.269300</td>\n",
       "      <td>3.294250e+04</td>\n",
       "      <td>1.398791e+09</td>\n",
       "    </tr>\n",
       "    <tr>\n",
       "      <th>75%</th>\n",
       "      <td>45.416700</td>\n",
       "      <td>38.966700</td>\n",
       "      <td>9.504200e+04</td>\n",
       "      <td>1.643345e+09</td>\n",
       "    </tr>\n",
       "    <tr>\n",
       "      <th>max</th>\n",
       "      <td>70.663400</td>\n",
       "      <td>179.200000</td>\n",
       "      <td>3.773200e+07</td>\n",
       "      <td>1.901975e+09</td>\n",
       "    </tr>\n",
       "  </tbody>\n",
       "</table>\n",
       "</div>"
      ],
      "text/plain": [
       "                lat           lng    population            id\n",
       "count  12764.000000  12764.000000  1.276400e+04  1.276400e+04\n",
       "mean      25.782320      6.130952  2.417199e+05  1.421425e+09\n",
       "std       23.571168     63.193506  1.221234e+06  2.610867e+08\n",
       "min      -54.933300   -178.158500  2.000000e+00  1.004003e+09\n",
       "25%        9.117600    -47.831900  1.531300e+04  1.170399e+09\n",
       "50%       32.457500     15.269300  3.294250e+04  1.398791e+09\n",
       "75%       45.416700     38.966700  9.504200e+04  1.643345e+09\n",
       "max       70.663400    179.200000  3.773200e+07  1.901975e+09"
      ]
     },
     "execution_count": 8,
     "metadata": {},
     "output_type": "execute_result"
    }
   ],
   "source": [
    "cleanedDataset.describe()"
   ]
  },
  {
   "cell_type": "markdown",
   "metadata": {},
   "source": [
    "# K-Mean Clustering, Calculating Centroids Manually"
   ]
  },
  {
   "cell_type": "code",
   "execution_count": 13,
   "metadata": {},
   "outputs": [
    {
     "name": "stdout",
     "output_type": "stream",
     "text": [
      "Convergence reached at iteration 24\n"
     ]
    }
   ],
   "source": [
    "# Extract relevant features: latitude (lat) and longitude (lng)\n",
    "coordinates = cleanedDataset[['lat', 'lng']].values\n",
    "\n",
    "# Define the number of clusters (k)\n",
    "k = 5\n",
    "# K-Means Clustering Process\n",
    "max_iterations = 30\n",
    "\n",
    "\n",
    "output_dir = f\"kmeans_steps_{dataSetName}_Features_lat_lng\"  # Directory to save the plots\n",
    "# Ensure the output directory exists\n",
    "os.makedirs(output_dir, exist_ok=True)\n",
    "\n",
    "# Initialize random centroids (pick k random points from the data)\n",
    "np.random.seed(42)\n",
    "centroids = coordinates[np.random.choice(coordinates.shape[0], k, replace=False)]\n",
    "\n",
    "# Function to plot clusters and centroids\n",
    "def plot_clusters(coordinates, labels, centroids, iteration):\n",
    "    plt.figure(figsize=(10, 6))\n",
    "    colors = ['red', 'blue', 'green', 'purple', 'orange']\n",
    "    \n",
    "    # Plot each cluster\n",
    "    for cluster in range(k):\n",
    "        cluster_points = coordinates[labels == cluster]\n",
    "        plt.scatter(cluster_points[:, 1], cluster_points[:, 0], s=100, color=colors[cluster], label=f'Cluster {cluster + 1}')\n",
    "    \n",
    "    # Plot centroids\n",
    "    plt.scatter(centroids[:, 1], centroids[:, 0], c='black', marker='x', s=200, label='Centroids')\n",
    "    plt.title(f'K-Means Clustering - Iteration {iteration}')\n",
    "    plt.xlabel('Longitude')\n",
    "    plt.ylabel('Latitude')\n",
    "    plt.legend()\n",
    "    plt.grid(True)\n",
    "    # Save the plot\n",
    "    file_name = os.path.join(output_dir, f\"iteration_{iteration + 1}.png\")\n",
    "    plt.savefig(file_name)\n",
    "    #plt.show()\n",
    "    plt.close()\n",
    "\n",
    "for iteration in range(1, max_iterations + 1):\n",
    "    # Assign clusters based on the closest centroid\n",
    "    labels = pairwise_distances_argmin(coordinates, centroids)\n",
    "    \n",
    "    # Plot the current state of clusters and centroids\n",
    "    plot_clusters(coordinates, labels, centroids, iteration)\n",
    "    \n",
    "    # Recalculate centroids as the mean of assigned points\n",
    "    new_centroids = np.array([coordinates[labels == cluster].mean(axis=0) for cluster in range(k)])\n",
    "    \n",
    "    # Check for convergence (if centroids do not change)\n",
    "    if np.all(centroids == new_centroids):\n",
    "        print(f\"Convergence reached at iteration {iteration}\")\n",
    "        break\n",
    "    \n",
    "    centroids = new_centroids"
   ]
  },
  {
   "cell_type": "code",
   "execution_count": 11,
   "metadata": {},
   "outputs": [
    {
     "data": {
      "text/html": [
       "<div>\n",
       "<style scoped>\n",
       "    .dataframe tbody tr th:only-of-type {\n",
       "        vertical-align: middle;\n",
       "    }\n",
       "\n",
       "    .dataframe tbody tr th {\n",
       "        vertical-align: top;\n",
       "    }\n",
       "\n",
       "    .dataframe thead th {\n",
       "        text-align: right;\n",
       "    }\n",
       "</style>\n",
       "<table border=\"1\" class=\"dataframe\">\n",
       "  <thead>\n",
       "    <tr style=\"text-align: right;\">\n",
       "      <th></th>\n",
       "      <th>city</th>\n",
       "      <th>city_ascii</th>\n",
       "      <th>lat</th>\n",
       "      <th>lng</th>\n",
       "      <th>country</th>\n",
       "      <th>iso2</th>\n",
       "      <th>iso3</th>\n",
       "      <th>admin_name</th>\n",
       "      <th>capital</th>\n",
       "      <th>population</th>\n",
       "      <th>id</th>\n",
       "    </tr>\n",
       "  </thead>\n",
       "  <tbody>\n",
       "    <tr>\n",
       "      <th>0</th>\n",
       "      <td>Tokyo</td>\n",
       "      <td>Tokyo</td>\n",
       "      <td>35.6897</td>\n",
       "      <td>139.6922</td>\n",
       "      <td>Japan</td>\n",
       "      <td>JP</td>\n",
       "      <td>JPN</td>\n",
       "      <td>Tōkyō</td>\n",
       "      <td>primary</td>\n",
       "      <td>37732000.0</td>\n",
       "      <td>1392685764</td>\n",
       "    </tr>\n",
       "    <tr>\n",
       "      <th>1</th>\n",
       "      <td>Jakarta</td>\n",
       "      <td>Jakarta</td>\n",
       "      <td>-6.1750</td>\n",
       "      <td>106.8275</td>\n",
       "      <td>Indonesia</td>\n",
       "      <td>ID</td>\n",
       "      <td>IDN</td>\n",
       "      <td>Jakarta</td>\n",
       "      <td>primary</td>\n",
       "      <td>33756000.0</td>\n",
       "      <td>1360771077</td>\n",
       "    </tr>\n",
       "    <tr>\n",
       "      <th>2</th>\n",
       "      <td>Delhi</td>\n",
       "      <td>Delhi</td>\n",
       "      <td>28.6100</td>\n",
       "      <td>77.2300</td>\n",
       "      <td>India</td>\n",
       "      <td>IN</td>\n",
       "      <td>IND</td>\n",
       "      <td>Delhi</td>\n",
       "      <td>admin</td>\n",
       "      <td>32226000.0</td>\n",
       "      <td>1356872604</td>\n",
       "    </tr>\n",
       "    <tr>\n",
       "      <th>3</th>\n",
       "      <td>Guangzhou</td>\n",
       "      <td>Guangzhou</td>\n",
       "      <td>23.1300</td>\n",
       "      <td>113.2600</td>\n",
       "      <td>China</td>\n",
       "      <td>CN</td>\n",
       "      <td>CHN</td>\n",
       "      <td>Guangdong</td>\n",
       "      <td>admin</td>\n",
       "      <td>26940000.0</td>\n",
       "      <td>1156237133</td>\n",
       "    </tr>\n",
       "    <tr>\n",
       "      <th>4</th>\n",
       "      <td>Mumbai</td>\n",
       "      <td>Mumbai</td>\n",
       "      <td>19.0761</td>\n",
       "      <td>72.8775</td>\n",
       "      <td>India</td>\n",
       "      <td>IN</td>\n",
       "      <td>IND</td>\n",
       "      <td>Mahārāshtra</td>\n",
       "      <td>admin</td>\n",
       "      <td>24973000.0</td>\n",
       "      <td>1356226629</td>\n",
       "    </tr>\n",
       "  </tbody>\n",
       "</table>\n",
       "</div>"
      ],
      "text/plain": [
       "        city city_ascii      lat       lng    country iso2 iso3   admin_name  \\\n",
       "0      Tokyo      Tokyo  35.6897  139.6922      Japan   JP  JPN        Tōkyō   \n",
       "1    Jakarta    Jakarta  -6.1750  106.8275  Indonesia   ID  IDN      Jakarta   \n",
       "2      Delhi      Delhi  28.6100   77.2300      India   IN  IND        Delhi   \n",
       "3  Guangzhou  Guangzhou  23.1300  113.2600      China   CN  CHN    Guangdong   \n",
       "4     Mumbai     Mumbai  19.0761   72.8775      India   IN  IND  Mahārāshtra   \n",
       "\n",
       "   capital  population          id  \n",
       "0  primary  37732000.0  1392685764  \n",
       "1  primary  33756000.0  1360771077  \n",
       "2    admin  32226000.0  1356872604  \n",
       "3    admin  26940000.0  1156237133  \n",
       "4    admin  24973000.0  1356226629  "
      ]
     },
     "execution_count": 11,
     "metadata": {},
     "output_type": "execute_result"
    }
   ],
   "source": [
    "cleanedDataset.head()"
   ]
  },
  {
   "cell_type": "code",
   "execution_count": null,
   "metadata": {},
   "outputs": [],
   "source": []
  },
  {
   "cell_type": "code",
   "execution_count": null,
   "metadata": {},
   "outputs": [],
   "source": []
  },
  {
   "cell_type": "code",
   "execution_count": null,
   "metadata": {},
   "outputs": [],
   "source": []
  },
  {
   "cell_type": "code",
   "execution_count": null,
   "metadata": {},
   "outputs": [],
   "source": []
  },
  {
   "cell_type": "code",
   "execution_count": null,
   "metadata": {},
   "outputs": [],
   "source": []
  }
 ],
 "metadata": {
  "kernelspec": {
   "display_name": "Python 3",
   "language": "python",
   "name": "python3"
  },
  "language_info": {
   "codemirror_mode": {
    "name": "ipython",
    "version": 3
   },
   "file_extension": ".py",
   "mimetype": "text/x-python",
   "name": "python",
   "nbconvert_exporter": "python",
   "pygments_lexer": "ipython3",
   "version": "3.12.3"
  }
 },
 "nbformat": 4,
 "nbformat_minor": 2
}
