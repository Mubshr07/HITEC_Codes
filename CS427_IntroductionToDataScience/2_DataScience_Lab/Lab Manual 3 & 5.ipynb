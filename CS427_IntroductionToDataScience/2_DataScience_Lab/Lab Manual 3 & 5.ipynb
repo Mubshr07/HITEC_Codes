{
 "cells": [
  {
   "cell_type": "code",
   "execution_count": 1,
   "metadata": {},
   "outputs": [],
   "source": [
    "import pandas as pd\n",
    "import numpy as np\n",
    "\n",
    "import matplotlib.pyplot as plt\n",
    "import os\n",
    "\n",
    "import seaborn as sns"
   ]
  },
  {
   "cell_type": "code",
   "execution_count": null,
   "metadata": {},
   "outputs": [
    {
     "name": "stdout",
     "output_type": "stream",
     "text": [
      "Dataset Columns: ['App', 'Category', 'Rating', 'Reviews', 'Size', 'Installs', 'Type', 'Price', 'Content Rating', 'Genres', 'Last Updated', 'Current Ver', 'Android Ver']\n",
      "****************************\n",
      "Dataset Shape: (10841, 13)\n",
      "****************************\n",
      "Total Rows in dataset File: 10841\n"
     ]
    }
   ],
   "source": [
    "datasetIndex = 2 \n",
    "\n",
    "if datasetIndex == 1:\n",
    "    dataSetPath = r\"E:\\pythonProject\\HITEC_Codes\\1_DataSets\\life_insurance_data.csv\"\n",
    "elif datasetIndex == 2:\n",
    "    dataSetPath = r\"E:\\pythonProject\\HITEC_Codes\\1_DataSets\\googleplaystore.csv\"\n",
    "elif datasetIndex == 3:\n",
    "    dataSetPath = r\"E:\\pythonProject\\HITEC_Codes\\1_DataSets\\framingham_Heart_Disease_Dataset.csv\"\n",
    "\n",
    "dataset = pd.read_csv(dataSetPath)\n",
    "dataset.head()\n",
    "\n",
    "print(f\"Dataset Columns: {dataset.columns.to_list()}\")\n",
    "print(\"****************************\")\n",
    "print(f\"Dataset Shape: {dataset.shape}\")\n",
    "print(\"****************************\")\n",
    "\n",
    "totalNumberOfRowInActualDataset = len(dataset)\n",
    "print(f\"Total Rows in dataset File: {totalNumberOfRowInActualDataset}\")"
   ]
  },
  {
   "cell_type": "code",
   "execution_count": 3,
   "metadata": {},
   "outputs": [
    {
     "name": "stdout",
     "output_type": "stream",
     "text": [
      "Dataset Shape after removing duplcates: (10358, 13)\n",
      "****************************\n",
      "Remaining Rows in Dataset: 10358\n",
      "****************************\n",
      "Total Duplicates: 483\n"
     ]
    }
   ],
   "source": [
    "dataset.drop_duplicates(inplace=True)\n",
    "print(f\"Dataset Shape after removing duplcates: {dataset.shape}\")\n",
    "print(\"****************************\")\n",
    "\n",
    "numberOfRowAfterRemovingDuplicates = len(dataset)\n",
    "print(f\"Remaining Rows in Dataset: {numberOfRowAfterRemovingDuplicates}\")\n",
    "\n",
    "print(\"****************************\")\n",
    "print(f\"Total Duplicates: {(totalNumberOfRowInActualDataset - numberOfRowAfterRemovingDuplicates)}\")"
   ]
  },
  {
   "cell_type": "code",
   "execution_count": 4,
   "metadata": {},
   "outputs": [
    {
     "name": "stdout",
     "output_type": "stream",
     "text": [
      "Remaining Rows in Dataset: 8886\n",
      "****************************\n",
      "Removed Number of rows containing Null Values: 1472\n"
     ]
    }
   ],
   "source": [
    "# Step 2: Handle missing values (remove rows with missing values)\n",
    "cleanedDataset = dataset.dropna()\n",
    "numberOfRowAfterRemovingNullValues = len(cleanedDataset)\n",
    "print(f\"Remaining Rows in Dataset: {numberOfRowAfterRemovingNullValues}\")\n",
    "\n",
    "print(\"****************************\")\n",
    "print(f\"Removed Number of rows containing Null Values: {( numberOfRowAfterRemovingDuplicates - numberOfRowAfterRemovingNullValues)}\")"
   ]
  },
  {
   "cell_type": "code",
   "execution_count": 5,
   "metadata": {},
   "outputs": [],
   "source": [
    "# Save cleaned data\n",
    "cleanedDataset.to_csv(f'cleaned_Dataset_with_Categorical_Features_Dataset_{datasetIndex}.csv', index=False)"
   ]
  },
  {
   "cell_type": "code",
   "execution_count": null,
   "metadata": {},
   "outputs": [],
   "source": []
  },
  {
   "cell_type": "code",
   "execution_count": 6,
   "metadata": {},
   "outputs": [],
   "source": [
    "# Splitting : Select categorical features (object, category, or boolean types)\n",
    "df_categorical = cleanedDataset.select_dtypes(include=['object', 'category', 'bool', 'datetime'])\n",
    "\n",
    "# Splitting : Select continuous (numerical) features (int64, float64)\n",
    "df_numerical = cleanedDataset.select_dtypes(include=['int64', 'int32', 'float64', 'float32'])\n",
    "\n",
    "\n"
   ]
  },
  {
   "cell_type": "code",
   "execution_count": null,
   "metadata": {},
   "outputs": [],
   "source": []
  },
  {
   "cell_type": "code",
   "execution_count": 7,
   "metadata": {},
   "outputs": [
    {
     "name": "stdout",
     "output_type": "stream",
     "text": [
      "\n",
      "Numerical DataFrame:\n",
      "   Rating\n",
      "0     4.1\n",
      "1     3.9\n",
      "2     4.7\n",
      "3     4.5\n",
      "4     4.3\n"
     ]
    }
   ],
   "source": [
    "# Display the Numerical or Continuous Features DataFrame\n",
    "print(\"\\nNumerical DataFrame:\")\n",
    "print(df_numerical.head())\n",
    "# Save cleaned data\n",
    "df_numerical.to_csv(f'Continuous_Features_only_of_Dataset_{datasetIndex}.csv', index=False)\n"
   ]
  },
  {
   "cell_type": "code",
   "execution_count": 8,
   "metadata": {},
   "outputs": [
    {
     "name": "stdout",
     "output_type": "stream",
     "text": [
      "   Rating\n",
      "0       4\n",
      "1       3\n",
      "2       4\n",
      "3       4\n",
      "4       4\n"
     ]
    }
   ],
   "source": [
    "for x in df_numerical.columns:\n",
    "  df_numerical[x] = df_numerical[x].astype(int)\n",
    "\n",
    "\n",
    "print(df_numerical.head())"
   ]
  },
  {
   "cell_type": "code",
   "execution_count": 9,
   "metadata": {},
   "outputs": [
    {
     "data": {
      "image/png": "[encoded data removed]",
      "text/plain": [
       "<Figure size 1000x1000 with 1 Axes>"
      ]
     },
     "metadata": {},
     "output_type": "display_data"
    }
   ],
   "source": [
    "# Ploting a Pie Chart of Rating values of Application\n",
    "value_counts = df_numerical['Rating'].value_counts()\n",
    "\n",
    "plt.figure(figsize=(10,10)) \n",
    "plt.pie(value_counts, labels=value_counts.index, autopct='%1.1f%%', startangle=90)\n",
    "plt.axis('equal')\n",
    "\n",
    "plt.title(f\"Distribution of {df_numerical['Rating'].name}\")\n",
    "\n",
    "plt.show()"
   ]
  },
  {
   "cell_type": "code",
   "execution_count": 10,
   "metadata": {},
   "outputs": [
    {
     "data": {
      "image/png": "[encoded data removed]",
      "text/plain": [
       "<Figure size 800x600 with 1 Axes>"
      ]
     },
     "metadata": {},
     "output_type": "display_data"
    }
   ],
   "source": [
    "plt.figure(figsize=(8,6))  # Optional: Set figure size\n",
    "plt.bar(value_counts.index, value_counts.values, color='skyblue')\n",
    "\n",
    "# Step 4: Add labels and title\n",
    "plt.xlabel('Star Rating')\n",
    "plt.ylabel('Count')\n",
    "plt.title(f\"Distribution of Application {df_numerical['Rating'].name}\")\n",
    "\n",
    "# Step 5: Show the bar plot\n",
    "plt.xticks(rotation=45)  # Optional: Rotate x-axis labels if necessary\n",
    "plt.show()"
   ]
  },
  {
   "cell_type": "code",
   "execution_count": 11,
   "metadata": {},
   "outputs": [
    {
     "name": "stdout",
     "output_type": "stream",
     "text": [
      "Categorical DataFrame:\n",
      "                                                 App        Category Reviews  \\\n",
      "0     Photo Editor & Candy Camera & Grid & ScrapBook  ART_AND_DESIGN     159   \n",
      "1                                Coloring book moana  ART_AND_DESIGN     967   \n",
      "2  U Launcher Lite – FREE Live Cool Themes, Hide ...  ART_AND_DESIGN   87510   \n",
      "3                              Sketch - Draw & Paint  ART_AND_DESIGN  215644   \n",
      "4              Pixel Draw - Number Art Coloring Book  ART_AND_DESIGN     967   \n",
      "\n",
      "   Size     Installs  Type Price Content Rating                     Genres  \\\n",
      "0   19M      10,000+  Free     0       Everyone               Art & Design   \n",
      "1   14M     500,000+  Free     0       Everyone  Art & Design;Pretend Play   \n",
      "2  8.7M   5,000,000+  Free     0       Everyone               Art & Design   \n",
      "3   25M  50,000,000+  Free     0           Teen               Art & Design   \n",
      "4  2.8M     100,000+  Free     0       Everyone    Art & Design;Creativity   \n",
      "\n",
      "       Last Updated         Current Ver   Android Ver  \n",
      "0   January 7, 2018               1.0.0  4.0.3 and up  \n",
      "1  January 15, 2018               2.0.0  4.0.3 and up  \n",
      "2    August 1, 2018               1.2.4  4.0.3 and up  \n",
      "3      June 8, 2018  Varies with device    4.2 and up  \n",
      "4     June 20, 2018                 1.1    4.4 and up  \n"
     ]
    }
   ],
   "source": [
    "# Display the Categorical Features DataFrame\n",
    "print(\"Categorical DataFrame:\")\n",
    "print(df_categorical.head())\n",
    "# Save cleaned data\n",
    "df_categorical.to_csv(f'Categorical_Features_only_of_Dataset_{datasetIndex}.csv', index=False)"
   ]
  },
  {
   "cell_type": "code",
   "execution_count": 12,
   "metadata": {},
   "outputs": [
    {
     "name": "stdout",
     "output_type": "stream",
     "text": [
      "                                                  0               1       2   \\\n",
      "0     Photo Editor & Candy Camera & Grid & ScrapBook  ART_AND_DESIGN     159   \n",
      "1                                Coloring book moana  ART_AND_DESIGN     967   \n",
      "2  U Launcher Lite – FREE Live Cool Themes, Hide ...  ART_AND_DESIGN   87510   \n",
      "3                              Sketch - Draw & Paint  ART_AND_DESIGN  215644   \n",
      "4              Pixel Draw - Number Art Coloring Book  ART_AND_DESIGN     967   \n",
      "\n",
      "     3            4     5  6         7                          8   \\\n",
      "0   19M      10,000+  Free  0  Everyone               Art & Design   \n",
      "1   14M     500,000+  Free  0  Everyone  Art & Design;Pretend Play   \n",
      "2  8.7M   5,000,000+  Free  0  Everyone               Art & Design   \n",
      "3   25M  50,000,000+  Free  0      Teen               Art & Design   \n",
      "4  2.8M     100,000+  Free  0  Everyone    Art & Design;Creativity   \n",
      "\n",
      "                 9                   10            11  12  \n",
      "0   January 7, 2018               1.0.0  4.0.3 and up   4  \n",
      "1  January 15, 2018               2.0.0  4.0.3 and up   3  \n",
      "2    August 1, 2018               1.2.4  4.0.3 and up   4  \n",
      "3      June 8, 2018  Varies with device    4.2 and up   4  \n",
      "4     June 20, 2018                 1.1    4.4 and up   4  \n"
     ]
    }
   ],
   "source": [
    "df_combined = pd.concat([df_categorical, df_numerical], axis=1, ignore_index=True)\n",
    "\n",
    "print(df_combined.head())\n",
    "# Save cleaned data\n",
    "df_combined.to_csv(f'Combining_Two_dataFrames_Dataset_{datasetIndex}.csv', index=False)"
   ]
  },
  {
   "cell_type": "code",
   "execution_count": null,
   "metadata": {},
   "outputs": [],
   "source": []
  },
  {
   "cell_type": "code",
   "execution_count": null,
   "metadata": {},
   "outputs": [],
   "source": []
  },
  {
   "cell_type": "code",
   "execution_count": null,
   "metadata": {},
   "outputs": [],
   "source": []
  },
  {
   "cell_type": "code",
   "execution_count": 13,
   "metadata": {},
   "outputs": [],
   "source": [
    "# Step 4: Encode categorical variables (using label encoding as an example)\n",
    "for col in df_categorical.select_dtypes(include=['object']).columns:\n",
    "    df_categorical[col] = df_categorical[col].astype('category').cat.codes\n",
    "\n",
    "  "
   ]
  },
  {
   "cell_type": "code",
   "execution_count": null,
   "metadata": {},
   "outputs": [],
   "source": [
    "for x in df_categorical.columns:\n",
    "  df_categorical[x] = df_categorical[x].astype(float)\n",
    "\n",
    "print(df_categorical.head())"
   ]
  },
  {
   "cell_type": "code",
   "execution_count": null,
   "metadata": {},
   "outputs": [],
   "source": [
    "correlation_matrix = df_categorical.corr()\n",
    "\n",
    "correlation_values = correlation_matrix.abs()\n",
    "sorted_correlation = correlation_values.unstack().sort_values(ascending=False)\n",
    "sorted_correlation = sorted_correlation[sorted_correlation != 1.0]\n",
    " \n",
    "plt.figure(figsize=(10, 8)) \n",
    "sns.heatmap(correlation_matrix, annot=True, cmap='coolwarm')\n",
    "# Set the title of the plot\n",
    "plt.title('Correlation Heatmap ' ,fontsize=16, fontweight='bold')\n",
    "plt.show()\n",
    "plt.close()\n",
    "\n",
    "\n",
    "\n",
    "\n"
   ]
  },
  {
   "cell_type": "code",
   "execution_count": null,
   "metadata": {},
   "outputs": [],
   "source": []
  },
  {
   "cell_type": "code",
   "execution_count": null,
   "metadata": {},
   "outputs": [],
   "source": []
  },
  {
   "cell_type": "code",
   "execution_count": null,
   "metadata": {},
   "outputs": [],
   "source": []
  },
  {
   "cell_type": "code",
   "execution_count": null,
   "metadata": {},
   "outputs": [],
   "source": []
  },
  {
   "cell_type": "code",
   "execution_count": null,
   "metadata": {},
   "outputs": [],
   "source": []
  },
  {
   "cell_type": "code",
   "execution_count": null,
   "metadata": {},
   "outputs": [],
   "source": []
  }
 ],
 "metadata": {
  "kernelspec": {
   "display_name": "Python 3",
   "language": "python",
   "name": "python3"
  },
  "language_info": {
   "codemirror_mode": {
    "name": "ipython",
    "version": 3
   },
   "file_extension": ".py",
   "mimetype": "text/x-python",
   "name": "python",
   "nbconvert_exporter": "python",
   "pygments_lexer": "ipython3",
   "version": "3.12.3"
  }
 },
 "nbformat": 4,
 "nbformat_minor": 2
}
