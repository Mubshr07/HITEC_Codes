{
 "cells": [
  {
   "cell_type": "code",
   "execution_count": null,
   "metadata": {},
   "outputs": [],
   "source": [
    "# 1. Importing Libraries\n",
    "import pandas as pd\n",
    "import numpy as np\n",
    "from sklearn.model_selection import train_test_split\n",
    "from sklearn.metrics import classification_report, accuracy_score\n",
    "import matplotlib.pyplot as plt\n",
    "import seaborn as sns\n",
    "from matplotlib.colors import ListedColormap\n",
    "\n",
    "import os\n"
   ]
  },
  {
   "cell_type": "markdown",
   "metadata": {},
   "source": [
    "# Points and their labels"
   ]
  },
  {
   "cell_type": "code",
   "execution_count": null,
   "metadata": {},
   "outputs": [],
   "source": [
    "# Define points as (x, y)\n",
    "points = [(1, 2), (3, 5), (6, 7), (2, 8), (5, 3), (7, 9)]\n",
    "point_names = [\"P1\", \"P2\", \"P3\", \"P4\", \"P5\", \"P6\"]"
   ]
  },
  {
   "cell_type": "markdown",
   "metadata": {},
   "source": [
    "#### Euclidean Distance Calculation"
   ]
  },
  {
   "cell_type": "code",
   "execution_count": null,
   "metadata": {},
   "outputs": [],
   "source": [
    "# Calculate Euclidean distances\n",
    "distances = []\n",
    "for i in range(len(points)):\n",
    "    for j in range(i + 1, len(points)):\n",
    "        p1 = points[i]\n",
    "        p2 = points[j]\n",
    "        distance = np.sqrt((p2[0] - p1[0])**2 + (p2[1] - p1[1])**2)\n",
    "        distances.append(f\"d(P{i+1}, P{j+1}) : {distance:.2f}\")\n",
    "# Print distances\n",
    "for d in distances:\n",
    "    print(d)\n"
   ]
  },
  {
   "cell_type": "markdown",
   "metadata": {},
   "source": [
    "#### Manhattan Distance Calculation"
   ]
  },
  {
   "cell_type": "code",
   "execution_count": null,
   "metadata": {},
   "outputs": [],
   "source": []
  },
  {
   "cell_type": "code",
   "execution_count": null,
   "metadata": {},
   "outputs": [],
   "source": []
  },
  {
   "cell_type": "code",
   "execution_count": null,
   "metadata": {},
   "outputs": [],
   "source": []
  },
  {
   "cell_type": "code",
   "execution_count": null,
   "metadata": {},
   "outputs": [],
   "source": []
  },
  {
   "cell_type": "markdown",
   "metadata": {},
   "source": [
    "# Plots"
   ]
  },
  {
   "cell_type": "code",
   "execution_count": null,
   "metadata": {},
   "outputs": [],
   "source": [
    "# Extract x and y coordinates\n",
    "x_coords = [p[0] for p in points]\n",
    "y_coords = [p[1] for p in points]\n",
    "\n",
    "# Create a DataFrame for easy plotting with Seaborn\n",
    "data = pd.DataFrame({\n",
    "    'x': x_coords,\n",
    "    'y': y_coords,\n",
    "    'label': point_names\n",
    "})\n",
    "\n",
    "# Set up the plot\n",
    "plt.figure(figsize=(8, 6))\n",
    "sns.scatterplot(x=x_coords, y=y_coords, s=100, marker='X')\n",
    " \n",
    "# Add labels to each point\n",
    "for i, txt in enumerate(data['label']):\n",
    "    plt.text(data['x'][i] + 0.2, data['y'][i] + 0.2, txt, fontsize=12, color=\"red\") \n",
    "\n",
    "\n",
    "xAxisMaxRange = 9\n",
    "yAxisMaxRange = 11\n",
    "\n",
    "plt.xlim(0, xAxisMaxRange)  # Custom x-axis range from 0 to 8\n",
    "plt.ylim(0, yAxisMaxRange)  # Custom y-axis range from 0 to 10\n",
    "x_ticks = np.arange(0, xAxisMaxRange, 1)  # x-axis ticks from 0 to 8 with step size of 1\n",
    "y_ticks = np.arange(0, yAxisMaxRange, 1)  # y-axis ticks from 0 to 10 with step size of 2\n",
    "plt.xticks(x_ticks)  # Apply custom x-axis ticks\n",
    "plt.yticks(y_ticks)  # Apply custom y-axis ticks\n",
    "\n",
    "# Customize the plot\n",
    "plt.title(\"XY Plane Visualization of Points (Cross Marker)\")\n",
    "plt.xlabel(\"X Coordinate\")\n",
    "plt.ylabel(\"Y Coordinate\")\n",
    "plt.grid(True)\n",
    "\n",
    "# Show plot\n",
    "plt.show()\n",
    "plt.close()"
   ]
  },
  {
   "cell_type": "code",
   "execution_count": null,
   "metadata": {},
   "outputs": [],
   "source": []
  },
  {
   "cell_type": "code",
   "execution_count": null,
   "metadata": {},
   "outputs": [],
   "source": [
    "# Set up the plot\n",
    "plt.figure(figsize=(8, 6))\n",
    "sns.scatterplot(x=x_coords, y=y_coords, s=100, marker='X')\n",
    "\n",
    "# Add labels to each point\n",
    "for i, txt in enumerate(data['label']):\n",
    "    plt.text(data['x'][i] + 0.2, data['y'][i] + 0.2, txt, fontsize=12, color=\"red\")\n",
    "\n",
    "# Set custom x and y axis range\n",
    "plt.xlim(0, 8)  # Custom x-axis range from 0 to 8\n",
    "plt.ylim(0, 10)  # Custom y-axis range from 0 to 10\n",
    "\n",
    "# Calculate the Euclidean distance from P2 to every other point\n",
    "P2 = np.array([3, 5])  # Coordinates of P2\n",
    "for i, point in enumerate(points):\n",
    "    if tuple(point) != tuple(P2):  # Check if the current point is not P2\n",
    "        P = np.array(point)  # Current point\n",
    "        distance = np.linalg.norm(P - P2)  # Calculate Euclidean distance\n",
    "        \n",
    "        # Plot line from P2 to the current point\n",
    "        plt.plot([P2[0], P[0]], [P2[1], P[1]], color=\"green\", linestyle=\"--\")\n",
    "        \n",
    "        # Display distance text along the line\n",
    "        mid_point = (P + P2) / 2  # Find the midpoint of the line to place the text\n",
    "        plt.text(mid_point[0], mid_point[1], f'{distance:.2f}', fontsize=10, color=\"black\")\n",
    "\n",
    "\n",
    "plt.xlim(0, xAxisMaxRange)  # Custom x-axis range from 0 to 8\n",
    "plt.ylim(0, yAxisMaxRange)  # Custom y-axis range from 0 to 10 \n",
    "plt.xticks(x_ticks)  # Apply custom x-axis ticks\n",
    "plt.yticks(y_ticks)  # Apply custom y-axis ticks\n",
    "\n",
    "# Customize the plot\n",
    "plt.title(\"Distances from P2 (3, 5) to Other Points\")\n",
    "plt.xlabel(\"X Coordinate\")\n",
    "plt.ylabel(\"Y Coordinate\")\n",
    "plt.grid(True)\n",
    "\n",
    "# Show plot\n",
    "plt.show()\n",
    "plt.close()"
   ]
  },
  {
   "cell_type": "code",
   "execution_count": null,
   "metadata": {},
   "outputs": [],
   "source": []
  },
  {
   "cell_type": "code",
   "execution_count": null,
   "metadata": {},
   "outputs": [],
   "source": []
  },
  {
   "cell_type": "code",
   "execution_count": null,
   "metadata": {},
   "outputs": [],
   "source": []
  },
  {
   "cell_type": "code",
   "execution_count": null,
   "metadata": {},
   "outputs": [],
   "source": []
  },
  {
   "cell_type": "code",
   "execution_count": null,
   "metadata": {},
   "outputs": [],
   "source": []
  },
  {
   "cell_type": "code",
   "execution_count": null,
   "metadata": {},
   "outputs": [],
   "source": []
  },
  {
   "cell_type": "code",
   "execution_count": null,
   "metadata": {},
   "outputs": [],
   "source": []
  },
  {
   "cell_type": "code",
   "execution_count": null,
   "metadata": {},
   "outputs": [],
   "source": []
  }
 ],
 "metadata": {
  "kernelspec": {
   "display_name": "Python 3",
   "language": "python",
   "name": "python3"
  },
  "language_info": {
   "codemirror_mode": {
    "name": "ipython",
    "version": 3
   },
   "file_extension": ".py",
   "mimetype": "text/x-python",
   "name": "python",
   "nbconvert_exporter": "python",
   "pygments_lexer": "ipython3",
   "version": "3.12.3"
  }
 },
 "nbformat": 4,
 "nbformat_minor": 2
}
