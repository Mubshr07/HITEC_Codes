{
 "cells": [
  {
   "cell_type": "code",
   "execution_count": 1,
   "metadata": {},
   "outputs": [],
   "source": [
    "# 1. Importing Libraries\n",
    "import pandas as pd\n",
    "import numpy as np\n",
    "from sklearn.model_selection import train_test_split \n",
    "from sklearn.cluster import KMeans\n",
    "\n",
    "from sklearn.metrics import classification_report, accuracy_score\n",
    "import matplotlib.pyplot as plt\n",
    "from matplotlib.colors import ListedColormap\n",
    "\n",
    "import seaborn as sns\n",
    "from matplotlib.colors import ListedColormap\n",
    "import os\n",
    "from sklearn.preprocessing import StandardScaler\n",
    "from sklearn.decomposition import PCA\n"
   ]
  },
  {
   "cell_type": "code",
   "execution_count": null,
   "metadata": {},
   "outputs": [],
   "source": [
    "dataSetPath = r\"..\\1_DataSets\\iris.csv\"\n",
    "\n",
    "dataset = pd.read_csv(dataSetPath)\n",
    "dataSetName = os.path.basename(dataSetPath)\n",
    "\n",
    "print(f\"Dataset Columns: {dataset.columns.to_list()}\")\n",
    "print(\"****************************\")\n",
    "print(f\"Dataset Shape: {dataset.shape}\")\n",
    "print(\"****************************\")\n",
    "\n",
    "totalNumberOfRowInActualDataset = len(dataset)\n",
    "print(f\"Total Rows in dataset File: {totalNumberOfRowInActualDataset}\")\n"
   ]
  },
  {
   "cell_type": "code",
   "execution_count": null,
   "metadata": {},
   "outputs": [],
   "source": [
    "dataset.drop_duplicates(inplace=True)\n",
    "print(f\"Dataset Shape after removing duplcates: {dataset.shape}\")\n",
    "print(\"****************************\")\n",
    "\n",
    "numberOfRowAfterRemovingDuplicates = len(dataset)\n",
    "print(f\"Remaining Rows in Dataset: {numberOfRowAfterRemovingDuplicates}\")\n",
    "\n",
    "print(\"****************************\")\n",
    "print(f\"Total Duplicates: {(totalNumberOfRowInActualDataset - numberOfRowAfterRemovingDuplicates)}\")"
   ]
  },
  {
   "cell_type": "code",
   "execution_count": null,
   "metadata": {},
   "outputs": [],
   "source": [
    "# Step 2: Handle missing values (remove rows with missing values)\n",
    "cleanedDataset = dataset.dropna()\n",
    "numberOfRowAfterRemovingNullValues = len(cleanedDataset)\n",
    "print(f\"Remaining Rows in Dataset: {numberOfRowAfterRemovingNullValues}\")\n",
    "\n",
    "print(\"****************************\")\n",
    "print(f\"Removed Number of rows containing Null Values: {( numberOfRowAfterRemovingDuplicates - numberOfRowAfterRemovingNullValues)}\")"
   ]
  },
  {
   "cell_type": "code",
   "execution_count": null,
   "metadata": {},
   "outputs": [],
   "source": [
    "target_column = cleanedDataset[cleanedDataset.columns.to_list()[-1]].unique()\n",
    "print(target_column) "
   ]
  },
  {
   "cell_type": "code",
   "execution_count": null,
   "metadata": {},
   "outputs": [],
   "source": [
    "cleanedDataset.head()"
   ]
  },
  {
   "cell_type": "code",
   "execution_count": null,
   "metadata": {},
   "outputs": [],
   "source": [
    "cleanedDataset.info()"
   ]
  },
  {
   "cell_type": "code",
   "execution_count": 8,
   "metadata": {},
   "outputs": [],
   "source": [
    "# Encode the target column if it's categorical\n",
    "if cleanedDataset[cleanedDataset.columns.to_list()[-1]].dtype == 'object':\n",
    "    cleanedDataset[cleanedDataset.columns.to_list()[-1]] = cleanedDataset[cleanedDataset.columns.to_list()[-1]].astype('category').cat.codes\n"
   ]
  },
  {
   "cell_type": "code",
   "execution_count": null,
   "metadata": {},
   "outputs": [],
   "source": [
    "cleanedDataset.info()"
   ]
  },
  {
   "cell_type": "code",
   "execution_count": null,
   "metadata": {},
   "outputs": [],
   "source": [
    "features = cleanedDataset.iloc[:, :-1].values  \n",
    "print(\"features Shape:\", features.shape)\n",
    "n_clusters = 3\n",
    "iterations = 25"
   ]
  },
  {
   "cell_type": "code",
   "execution_count": null,
   "metadata": {},
   "outputs": [],
   "source": [
    "firstFeatureIndex = 0\n",
    "secondFeatureIndex = 1\n",
    "# Randomly initialize centroids\n",
    "np.random.seed(42)\n",
    "initial_centroids = features[np.random.choice(features.shape[0], n_clusters, replace=False), :]\n",
    "\n",
    "# Initialize variables\n",
    "centroids = initial_centroids\n",
    "output_dir = f\"kmeans_steps_{dataSetName}_{cleanedDataset.columns.to_list()[firstFeatureIndex]}_vs_{cleanedDataset.columns.to_list()[secondFeatureIndex]}\"  # Directory to save the plots\n",
    "\n",
    "# Ensure the output directory exists\n",
    "os.makedirs(output_dir, exist_ok=True)\n",
    "\n",
    "for iteration in range(iterations):\n",
    "    # Step 1: Assign points to the nearest centroid\n",
    "    distances = np.linalg.norm(features[:, np.newaxis, :] - centroids, axis=2)\n",
    "    labels = np.argmin(distances, axis=1)\n",
    "\n",
    "    # Step 2: Update centroids based on the mean of assigned points\n",
    "    new_centroids = np.array([features[labels == cluster].mean(axis=0) if np.any(labels == cluster) else centroids[cluster]\n",
    "                              for cluster in range(n_clusters)])\n",
    "\n",
    "    # Plot current iteration\n",
    "    plt.figure(figsize=(8, 6))\n",
    "    for cluster in range(n_clusters):\n",
    "        plt.scatter(features[labels == cluster, firstFeatureIndex], features[labels == cluster, secondFeatureIndex], s=50, alpha=0.6, label=f'Cluster {cluster + 1}')\n",
    "    plt.scatter(centroids[:, firstFeatureIndex], centroids[:, secondFeatureIndex], s=200, c='black', marker='x', label='Centroids')\n",
    "    plt.title(f\"K-Means Iteration {iteration + 1}\")\n",
    "    plt.xlabel(f\"{cleanedDataset.columns.to_list()[firstFeatureIndex]}\")\n",
    "    plt.ylabel(f\"{cleanedDataset.columns.to_list()[secondFeatureIndex]}\")\n",
    "    plt.legend()\n",
    "    plt.grid(True)\n",
    "\n",
    "    # Save the plot\n",
    "    picturePath = os.path.join(output_dir, f\"k_mean_Clustering_iteration_{iteration + 1}.png\") \n",
    "    plt.savefig(picturePath,  dpi=300, bbox_inches='tight')\n",
    "\n",
    "    plt.close()\n",
    "\n",
    "    # Check for convergence (if centroids do not change)\n",
    "    if np.allclose(centroids, new_centroids):\n",
    "        break\n",
    "\n",
    "    centroids = new_centroids  # Update centroids for next iteration\n",
    "\n",
    "print(f\"Plots saved in the directory: {output_dir}\")"
   ]
  },
  {
   "cell_type": "code",
   "execution_count": null,
   "metadata": {},
   "outputs": [],
   "source": []
  },
  {
   "cell_type": "code",
   "execution_count": null,
   "metadata": {},
   "outputs": [],
   "source": [
    "firstFeatureIndex = 0\n",
    "secondFeatureIndex = 2\n",
    "# Randomly initialize centroids\n",
    "np.random.seed(42)\n",
    "initial_centroids = features[np.random.choice(features.shape[0], n_clusters, replace=False), :]\n",
    "\n",
    "# Initialize variables\n",
    "centroids = initial_centroids\n",
    "output_dir = f\"kmeans_steps_{dataSetName}_{cleanedDataset.columns.to_list()[firstFeatureIndex]}_vs_{cleanedDataset.columns.to_list()[secondFeatureIndex]}\"  # Directory to save the plots\n",
    "\n",
    "# Ensure the output directory exists\n",
    "os.makedirs(output_dir, exist_ok=True)\n",
    "\n",
    "for iteration in range(iterations):\n",
    "    # Step 1: Assign points to the nearest centroid\n",
    "    distances = np.linalg.norm(features[:, np.newaxis, :] - centroids, axis=2)\n",
    "    labels = np.argmin(distances, axis=1)\n",
    "\n",
    "    # Step 2: Update centroids based on the mean of assigned points\n",
    "    new_centroids = np.array([features[labels == cluster].mean(axis=0) if np.any(labels == cluster) else centroids[cluster]\n",
    "                              for cluster in range(n_clusters)])\n",
    "\n",
    "    # Plot current iteration\n",
    "    plt.figure(figsize=(8, 6))\n",
    "    for cluster in range(n_clusters):\n",
    "        plt.scatter(features[labels == cluster, firstFeatureIndex], features[labels == cluster, secondFeatureIndex], s=50, alpha=0.6, label=f'Cluster {cluster + 1}')\n",
    "    plt.scatter(centroids[:, firstFeatureIndex], centroids[:, secondFeatureIndex], s=200, c='black', marker='x', label='Centroids')\n",
    "    plt.title(f\"K-Means Iteration {iteration + 1}\")\n",
    "    plt.xlabel(f\"{cleanedDataset.columns.to_list()[firstFeatureIndex]}\")\n",
    "    plt.ylabel(f\"{cleanedDataset.columns.to_list()[secondFeatureIndex]}\")\n",
    "    plt.legend()\n",
    "    plt.grid(True)\n",
    "\n",
    "    # Save the plot\n",
    "    picturePath = os.path.join(output_dir, f\"k_mean_Clustering_iteration_{iteration + 1}.png\") \n",
    "    plt.savefig(picturePath,  dpi=300, bbox_inches='tight')\n",
    "\n",
    "    plt.close()\n",
    "\n",
    "    # Check for convergence (if centroids do not change)\n",
    "    if np.allclose(centroids, new_centroids):\n",
    "        break\n",
    "\n",
    "    centroids = new_centroids  # Update centroids for next iteration\n",
    "\n",
    "print(f\"Plots saved in the directory: {output_dir}\")"
   ]
  },
  {
   "cell_type": "code",
   "execution_count": null,
   "metadata": {},
   "outputs": [],
   "source": []
  },
  {
   "cell_type": "code",
   "execution_count": null,
   "metadata": {},
   "outputs": [],
   "source": []
  },
  {
   "cell_type": "code",
   "execution_count": null,
   "metadata": {},
   "outputs": [],
   "source": []
  },
  {
   "cell_type": "code",
   "execution_count": null,
   "metadata": {},
   "outputs": [],
   "source": []
  },
  {
   "cell_type": "code",
   "execution_count": null,
   "metadata": {},
   "outputs": [],
   "source": []
  },
  {
   "cell_type": "code",
   "execution_count": null,
   "metadata": {},
   "outputs": [],
   "source": []
  },
  {
   "cell_type": "code",
   "execution_count": null,
   "metadata": {},
   "outputs": [],
   "source": [
    "from sklearn.cluster import KMeans\n",
    "import numpy as np\n",
    "import matplotlib.pyplot as plt\n",
    "\n",
    "# Sample Data\n",
    "np.random.seed(42)\n",
    "X = np.random.rand(100, 2)\n",
    "\n",
    "# Apply K-Means\n",
    "kmeans = KMeans(n_clusters=3, random_state=42)\n",
    "kmeans.fit(X)\n",
    "y_kmeans = kmeans.predict(X)\n",
    "\n",
    "# Plotting\n",
    "plt.scatter(X[:, 0], X[:, 1], c=y_kmeans, s=50, cmap='viridis')\n",
    "centroids = kmeans.cluster_centers_\n",
    "plt.scatter(centroids[:, 0], centroids[:, 1], c='red', s=200, alpha=0.75, label=\"Centroids\")\n",
    "plt.title(\"K-Means Clustering\")\n",
    "plt.legend()\n",
    "plt.show()\n"
   ]
  },
  {
   "cell_type": "code",
   "execution_count": null,
   "metadata": {},
   "outputs": [],
   "source": []
  }
 ],
 "metadata": {
  "kernelspec": {
   "display_name": "Python 3",
   "language": "python",
   "name": "python3"
  },
  "language_info": {
   "codemirror_mode": {
    "name": "ipython",
    "version": 3
   },
   "file_extension": ".py",
   "mimetype": "text/x-python",
   "name": "python",
   "nbconvert_exporter": "python",
   "pygments_lexer": "ipython3",
   "version": "3.12.3"
  }
 },
 "nbformat": 4,
 "nbformat_minor": 2
}
